{
  "nbformat": 4,
  "nbformat_minor": 0,
  "metadata": {
    "colab": {
      "name": "studiesw3s.ipynb",
      "provenance": [],
      "include_colab_link": true
    },
    "kernelspec": {
      "name": "python3",
      "display_name": "Python 3"
    }
  },
  "cells": [
    {
      "cell_type": "markdown",
      "metadata": {
        "id": "view-in-github",
        "colab_type": "text"
      },
      "source": [
        "<a href=\"https://colab.research.google.com/github/AlestanAlves/w3schools_python/blob/master/studiesw3s.ipynb\" target=\"_parent\"><img src=\"https://colab.research.google.com/assets/colab-badge.svg\" alt=\"Open In Colab\"/></a>"
      ]
    },
    {
      "cell_type": "markdown",
      "metadata": {
        "id": "6H5NCZG5uxZN",
        "colab_type": "text"
      },
      "source": [
        "# **Full course python w3schools** \n",
        "[w3s](https://www.w3schools.com/python/default.asp)\n",
        "\n",
        "\n"
      ]
    },
    {
      "cell_type": "code",
      "metadata": {
        "id": "MH0_K8K9lz47",
        "colab_type": "code",
        "colab": {}
      },
      "source": [
        "x = \"Hello World\" \t#str \t\n",
        "x = 20 \t#int \t\n",
        "x = 20.5 \t#float \t\n",
        "x = 1j \t#complex \t\n",
        "x = [\"apple\", \"banana\", \"cherry\"] \t#list \t\n",
        "x = (\"apple\", \"banana\", \"cherry\") \t#tuple \t\n",
        "x = range(6) \t#range \t\n",
        "x = {\"name\" : \"John\", \"age\" : 36} \t#dict \t\n",
        "x = {\"apple\", \"banana\", \"cherry\"} \t#set \t\n",
        "x = frozenset({\"apple\", \"banana\", \"cherry\"}) \t#frozenset \t\n",
        "x = True \t#bool \t\n",
        "x = b\"Hello\" \t#bytes \t\n",
        "x = bytearray(5) \t#bytearray \t\n",
        "x = memoryview(bytes(5)) \t#memoryview"
      ],
      "execution_count": 0,
      "outputs": []
    },
    {
      "cell_type": "code",
      "metadata": {
        "id": "sZdO3kjeqWYj",
        "colab_type": "code",
        "colab": {
          "base_uri": "https://localhost:8080/",
          "height": 69
        },
        "outputId": "ad76364a-e017-4a16-bf8e-6e382251f7e1"
      },
      "source": [
        "x = 1    # int\n",
        "y = 2.8  # float\n",
        "z = 1j   # complex\n",
        "print(type(x))\n",
        "print(type(y))\n",
        "print(type(z))"
      ],
      "execution_count": 2,
      "outputs": [
        {
          "output_type": "stream",
          "text": [
            "<class 'int'>\n",
            "<class 'float'>\n",
            "<class 'complex'>\n"
          ],
          "name": "stdout"
        }
      ]
    },
    {
      "cell_type": "markdown",
      "metadata": {
        "id": "Fm1YGXnjrPFf",
        "colab_type": "text"
      },
      "source": [
        "## **int**\n",
        "Int, or integer, is a whole number, positive or negative, without decimals, of unlimited length."
      ]
    },
    {
      "cell_type": "code",
      "metadata": {
        "id": "jhcwXHypqnhO",
        "colab_type": "code",
        "colab": {
          "base_uri": "https://localhost:8080/",
          "height": 69
        },
        "outputId": "3b84dcb8-04ba-4c65-fc0c-e89113f87b34"
      },
      "source": [
        "x = 1\n",
        "y = 35656222554887711\n",
        "z = -3255522\n",
        "\n",
        "print(type(x))\n",
        "print(type(y))\n",
        "print(type(z)) "
      ],
      "execution_count": 3,
      "outputs": [
        {
          "output_type": "stream",
          "text": [
            "<class 'int'>\n",
            "<class 'int'>\n",
            "<class 'int'>\n"
          ],
          "name": "stdout"
        }
      ]
    },
    {
      "cell_type": "markdown",
      "metadata": {
        "id": "4LSrUQlBrkXj",
        "colab_type": "text"
      },
      "source": [
        "# **Float**\n",
        "\n",
        "Float, or \"floating point number\" is a number, positive or negative, containing one or more decimals."
      ]
    },
    {
      "cell_type": "code",
      "metadata": {
        "id": "T80B8JdRrbhU",
        "colab_type": "code",
        "colab": {
          "base_uri": "https://localhost:8080/",
          "height": 69
        },
        "outputId": "dbbf7487-b949-406a-f917-a9ff25fd6970"
      },
      "source": [
        "x = 1.10\n",
        "y = 1.0\n",
        "z = -35.59\n",
        "\n",
        "print(type(x))\n",
        "print(type(y))\n",
        "print(type(z)) "
      ],
      "execution_count": 4,
      "outputs": [
        {
          "output_type": "stream",
          "text": [
            "<class 'float'>\n",
            "<class 'float'>\n",
            "<class 'float'>\n"
          ],
          "name": "stdout"
        }
      ]
    },
    {
      "cell_type": "markdown",
      "metadata": {
        "id": "4eLF1qtsr0Ph",
        "colab_type": "text"
      },
      "source": [
        "Float can also be scientific numbers with an \"e\" to indicate the power of 10."
      ]
    },
    {
      "cell_type": "code",
      "metadata": {
        "id": "WuaXx-OJrtv4",
        "colab_type": "code",
        "colab": {
          "base_uri": "https://localhost:8080/",
          "height": 69
        },
        "outputId": "083216d7-1bf3-434d-dd32-e9792f021534"
      },
      "source": [
        "x = 35e3\n",
        "y = 12E4\n",
        "z = -87.7e100\n",
        "\n",
        "print(type(x))\n",
        "print(type(y))\n",
        "print(type(z)) "
      ],
      "execution_count": 5,
      "outputs": [
        {
          "output_type": "stream",
          "text": [
            "<class 'float'>\n",
            "<class 'float'>\n",
            "<class 'float'>\n"
          ],
          "name": "stdout"
        }
      ]
    },
    {
      "cell_type": "markdown",
      "metadata": {
        "id": "QA1G-AmSsHjI",
        "colab_type": "text"
      },
      "source": [
        "# **Complex**\n",
        "\n",
        "Complex numbers are written with a \"j\" as the imaginary part:"
      ]
    },
    {
      "cell_type": "code",
      "metadata": {
        "id": "lvzk7kLPsI3r",
        "colab_type": "code",
        "colab": {
          "base_uri": "https://localhost:8080/",
          "height": 69
        },
        "outputId": "91ca9617-b3f1-4a97-f3c1-29f3dd19bc88"
      },
      "source": [
        "x = 3+5j\n",
        "y = 5j\n",
        "z = -5j\n",
        "\n",
        "print(type(x))\n",
        "print(type(y))\n",
        "print(type(z)) "
      ],
      "execution_count": 6,
      "outputs": [
        {
          "output_type": "stream",
          "text": [
            "<class 'complex'>\n",
            "<class 'complex'>\n",
            "<class 'complex'>\n"
          ],
          "name": "stdout"
        }
      ]
    },
    {
      "cell_type": "markdown",
      "metadata": {
        "id": "g5-NOmF2sloD",
        "colab_type": "text"
      },
      "source": [
        "# **Type Conversion**\n",
        "\n",
        "You can convert from one type to another with the `int()`, `float(`), and `complex()` methods:"
      ]
    },
    {
      "cell_type": "code",
      "metadata": {
        "id": "e5txJHRVs23d",
        "colab_type": "code",
        "colab": {
          "base_uri": "https://localhost:8080/",
          "height": 121
        },
        "outputId": "4cae06ab-4103-46b0-84f1-c0d58bcc51af"
      },
      "source": [
        "x = 1 # int\n",
        "y = 2.8 # float\n",
        "z = 1j # complex\n",
        "\n",
        "#convert from int to float:\n",
        "a = float(x)\n",
        "\n",
        "#convert from float to int:\n",
        "b = int(y)\n",
        "\n",
        "#convert from int to complex:\n",
        "c = complex(x)\n",
        "\n",
        "print(a)\n",
        "print(b)\n",
        "print(c)\n",
        "\n",
        "print(type(a))\n",
        "print(type(b))\n",
        "print(type(c)) "
      ],
      "execution_count": 7,
      "outputs": [
        {
          "output_type": "stream",
          "text": [
            "1.0\n",
            "2\n",
            "(1+0j)\n",
            "<class 'float'>\n",
            "<class 'int'>\n",
            "<class 'complex'>\n"
          ],
          "name": "stdout"
        }
      ]
    },
    {
      "cell_type": "markdown",
      "metadata": {
        "id": "xBN6u2aOtCTy",
        "colab_type": "text"
      },
      "source": [
        "\n",
        "# **Random Number**\n",
        "\n",
        "Python does not have a random() function to make a random number, but Python has a built-in module called random that can be used to make random numbers:"
      ]
    },
    {
      "cell_type": "code",
      "metadata": {
        "id": "06SLK7uJsMpt",
        "colab_type": "code",
        "colab": {
          "base_uri": "https://localhost:8080/",
          "height": 34
        },
        "outputId": "c45142fb-4ec7-4b62-f1a0-7c730d5ecf26"
      },
      "source": [
        "import random\n",
        "\n",
        "print(random.randrange(1,10)) "
      ],
      "execution_count": 9,
      "outputs": [
        {
          "output_type": "stream",
          "text": [
            "6\n"
          ],
          "name": "stdout"
        }
      ]
    },
    {
      "cell_type": "markdown",
      "metadata": {
        "id": "UVsvXCmjusWc",
        "colab_type": "text"
      },
      "source": [
        "# **Strings are Arrays**\n",
        "\n",
        "Like many other popular programming languages, strings in Python are arrays of bytes representing unicode characters.\n",
        "\n",
        "However, Python does not have a character data type, a single character is simply a string with a length of 1.\n",
        "Square brackets can be used to access elements of the string.\n",
        "\n",
        "Casting in python is therefore done using constructor functions:\n",
        "\n",
        "- int() - constructs an integer number from an integer literal, a float literal (by rounding down to the previous whole number), or a string literal (providing the string represents a whole number)\n",
        "- float() - constructs a float number from an integer literal, a float literal or a string literal (providing the string represents a float or an integer)\n",
        "- str() - constructs a string from a wide variety of data types, including strings, integer literals and float literals\n"
      ]
    },
    {
      "cell_type": "code",
      "metadata": {
        "id": "2bxsTufItTLn",
        "colab_type": "code",
        "colab": {}
      },
      "source": [
        "x = int(1)   # x will be 1\n",
        "y = int(2.8) # y will be 2\n",
        "z = int(\"3\") # z will be 3"
      ],
      "execution_count": 0,
      "outputs": []
    },
    {
      "cell_type": "code",
      "metadata": {
        "id": "jEvtNn9HxrOA",
        "colab_type": "code",
        "colab": {}
      },
      "source": [
        "x = float(1)     # x will be 1.0\n",
        "y = float(2.8)   # y will be 2.8\n",
        "z = float(\"3\")   # z will be 3.0\n",
        "w = float(\"4.2\") # w will be 4.2"
      ],
      "execution_count": 0,
      "outputs": []
    },
    {
      "cell_type": "code",
      "metadata": {
        "id": "6TtDs9kkxyfZ",
        "colab_type": "code",
        "colab": {}
      },
      "source": [
        " x = str(\"s1\") # x will be 's1'\n",
        "y = str(2)    # y will be '2'\n",
        "z = str(3.0)  # z will be '3.0' "
      ],
      "execution_count": 0,
      "outputs": []
    },
    {
      "cell_type": "markdown",
      "metadata": {
        "id": "ltuEr3QDx-Xp",
        "colab_type": "text"
      },
      "source": [
        "# **String Literals**\n",
        "\n",
        "String literals in python are surrounded by either single quotation marks, or double quotation marks.\n",
        "\n",
        "'hello' is the same as \"hello\".\n",
        "\n",
        "You can display a string literal with the print() function:"
      ]
    },
    {
      "cell_type": "code",
      "metadata": {
        "id": "gAt_cDorx2o0",
        "colab_type": "code",
        "colab": {
          "base_uri": "https://localhost:8080/",
          "height": 52
        },
        "outputId": "9a31ff2f-8d0d-4604-d0bf-92ea51272f82"
      },
      "source": [
        "print(\"Hello\")\n",
        "print('Hello')"
      ],
      "execution_count": 13,
      "outputs": [
        {
          "output_type": "stream",
          "text": [
            "Hello\n",
            "Hello\n"
          ],
          "name": "stdout"
        }
      ]
    },
    {
      "cell_type": "markdown",
      "metadata": {
        "id": "_R8lJsHc3oaZ",
        "colab_type": "text"
      },
      "source": [
        "# **Assign String to a Variable**\n",
        "\n",
        "Assigning a string to a variable is done with the variable name followed by an equal sign and the string:"
      ]
    },
    {
      "cell_type": "code",
      "metadata": {
        "id": "yyWbQFHz3aKI",
        "colab_type": "code",
        "colab": {
          "base_uri": "https://localhost:8080/",
          "height": 34
        },
        "outputId": "6f5969ae-5768-4c12-f541-9862fc8b2175"
      },
      "source": [
        "a = \"Hello\"\n",
        "print(a) "
      ],
      "execution_count": 14,
      "outputs": [
        {
          "output_type": "stream",
          "text": [
            "Hello\n"
          ],
          "name": "stdout"
        }
      ]
    },
    {
      "cell_type": "markdown",
      "metadata": {
        "id": "snccXoqf32pp",
        "colab_type": "text"
      },
      "source": [
        "# **Multiline Strings**\n",
        "\n",
        "You can assign a multiline string to a variable by using three quotes:"
      ]
    },
    {
      "cell_type": "code",
      "metadata": {
        "id": "hX3W4yKo3zQ_",
        "colab_type": "code",
        "colab": {
          "base_uri": "https://localhost:8080/",
          "height": 86
        },
        "outputId": "f9c821b3-2da3-4ef5-95a2-c99d17f06710"
      },
      "source": [
        " a = \"\"\"Lorem ipsum dolor sit amet,\n",
        "consectetur adipiscing elit,\n",
        "sed do eiusmod tempor incididunt\n",
        "ut labore et dolore magna aliqua.\"\"\"\n",
        "print(a) "
      ],
      "execution_count": 15,
      "outputs": [
        {
          "output_type": "stream",
          "text": [
            "Lorem ipsum dolor sit amet,\n",
            "consectetur adipiscing elit,\n",
            "sed do eiusmod tempor incididunt\n",
            "ut labore et dolore magna aliqua.\n"
          ],
          "name": "stdout"
        }
      ]
    },
    {
      "cell_type": "markdown",
      "metadata": {
        "id": "tj4dIk2a4AcF",
        "colab_type": "text"
      },
      "source": [
        "# **Strings are Arrays**\n",
        "\n",
        "Like many other popular programming languages, strings in Python are arrays of bytes representing unicode characters.\n",
        "\n",
        "However, Python does not have a character data type, a single character is simply a string with a length of 1.\n",
        "\n",
        "Square brackets can be used to access elements of the string."
      ]
    },
    {
      "cell_type": "code",
      "metadata": {
        "id": "huKFm-dh3560",
        "colab_type": "code",
        "colab": {
          "base_uri": "https://localhost:8080/",
          "height": 34
        },
        "outputId": "eacfb005-6bd3-4425-f8db-4a3d78f3834d"
      },
      "source": [
        "a = \"Hello, World!\"\n",
        "print(a[1])"
      ],
      "execution_count": 16,
      "outputs": [
        {
          "output_type": "stream",
          "text": [
            "e\n"
          ],
          "name": "stdout"
        }
      ]
    },
    {
      "cell_type": "markdown",
      "metadata": {
        "id": "1Y8elZ7_4IVH",
        "colab_type": "text"
      },
      "source": [
        "# **Slicing**\n",
        "\n",
        "You can return a range of characters by using the slice syntax.\n",
        "\n",
        "Specify the start index and the end index, separated by a colon, to return a part of the string."
      ]
    },
    {
      "cell_type": "code",
      "metadata": {
        "id": "a-eTLtQ24FFw",
        "colab_type": "code",
        "colab": {
          "base_uri": "https://localhost:8080/",
          "height": 34
        },
        "outputId": "246620a6-2ab4-4ae9-ea6f-3b6ce6eff64b"
      },
      "source": [
        "b = \"Hello, World!\"\n",
        "print(b[2:5])"
      ],
      "execution_count": 17,
      "outputs": [
        {
          "output_type": "stream",
          "text": [
            "llo\n"
          ],
          "name": "stdout"
        }
      ]
    },
    {
      "cell_type": "markdown",
      "metadata": {
        "id": "8v2BCD4j41Vn",
        "colab_type": "text"
      },
      "source": [
        "# **Negative Indexing**\n",
        "Use negative indexes to start the slice from the end of the string:\n"
      ]
    },
    {
      "cell_type": "code",
      "metadata": {
        "id": "rgOdq48c4L9w",
        "colab_type": "code",
        "colab": {
          "base_uri": "https://localhost:8080/",
          "height": 34
        },
        "outputId": "9976b627-6bd3-455e-c183-05485ea1aaaa"
      },
      "source": [
        "b = \"Hello, World!\"\n",
        "print(b[-5:-2])"
      ],
      "execution_count": 18,
      "outputs": [
        {
          "output_type": "stream",
          "text": [
            "orl\n"
          ],
          "name": "stdout"
        }
      ]
    },
    {
      "cell_type": "markdown",
      "metadata": {
        "id": "C34HEKO-5Atv",
        "colab_type": "text"
      },
      "source": [
        "# **String Length**\n",
        "\n",
        "To get the length of a string, use the len() function"
      ]
    },
    {
      "cell_type": "code",
      "metadata": {
        "id": "k9GkibKt451b",
        "colab_type": "code",
        "colab": {
          "base_uri": "https://localhost:8080/",
          "height": 34
        },
        "outputId": "8a00be42-c9d8-41c9-a3cf-5d31ac4779b4"
      },
      "source": [
        "a = \"Hello, World!\"\n",
        "print(len(a))"
      ],
      "execution_count": 19,
      "outputs": [
        {
          "output_type": "stream",
          "text": [
            "13\n"
          ],
          "name": "stdout"
        }
      ]
    },
    {
      "cell_type": "markdown",
      "metadata": {
        "id": "RhhOcR415Iij",
        "colab_type": "text"
      },
      "source": [
        "# **String Methods**\n",
        "\n",
        "Python has a set of built-in methods that you can use on strings."
      ]
    },
    {
      "cell_type": "code",
      "metadata": {
        "id": "M46pyrtf5Iaj",
        "colab_type": "code",
        "colab": {
          "base_uri": "https://localhost:8080/",
          "height": 34
        },
        "outputId": "49613072-ee44-4b29-ed7d-c6d73d3ca225"
      },
      "source": [
        "a = \" Hello, World! \"\n",
        "print(a.strip()) # returns \"Hello, World!\" "
      ],
      "execution_count": 20,
      "outputs": [
        {
          "output_type": "stream",
          "text": [
            "Hello, World!\n"
          ],
          "name": "stdout"
        }
      ]
    },
    {
      "cell_type": "markdown",
      "metadata": {
        "id": "h2ldydHj5gbK",
        "colab_type": "text"
      },
      "source": [
        "## **Lower** (letras pequenas)"
      ]
    },
    {
      "cell_type": "code",
      "metadata": {
        "id": "DsWRFraI5Dsa",
        "colab_type": "code",
        "colab": {
          "base_uri": "https://localhost:8080/",
          "height": 34
        },
        "outputId": "df1bb471-d9ec-455f-df86-389beb6eb83a"
      },
      "source": [
        "a = \"Hello, World!\"\n",
        "print(a.lower())"
      ],
      "execution_count": 21,
      "outputs": [
        {
          "output_type": "stream",
          "text": [
            "hello, world!\n"
          ],
          "name": "stdout"
        }
      ]
    },
    {
      "cell_type": "markdown",
      "metadata": {
        "id": "4ABx1Lvo5rKQ",
        "colab_type": "text"
      },
      "source": [
        "## **Upper** (letras maiores)"
      ]
    },
    {
      "cell_type": "code",
      "metadata": {
        "id": "X1MMk4us5mBe",
        "colab_type": "code",
        "colab": {
          "base_uri": "https://localhost:8080/",
          "height": 34
        },
        "outputId": "a8e64c02-04f1-4ee3-d34d-5cdb97a32b76"
      },
      "source": [
        "a = \"Hello, World!\"\n",
        "print(a.upper())"
      ],
      "execution_count": 22,
      "outputs": [
        {
          "output_type": "stream",
          "text": [
            "HELLO, WORLD!\n"
          ],
          "name": "stdout"
        }
      ]
    },
    {
      "cell_type": "markdown",
      "metadata": {
        "id": "GAyzYohR6gZ_",
        "colab_type": "text"
      },
      "source": [
        "## **Split**"
      ]
    },
    {
      "cell_type": "markdown",
      "metadata": {
        "id": "eXV-t5YF6j5q",
        "colab_type": "text"
      },
      "source": [
        "The split() method splits the string into substrings if it finds instances of the separator:"
      ]
    },
    {
      "cell_type": "code",
      "metadata": {
        "id": "ggLT5C6J6CpP",
        "colab_type": "code",
        "colab": {
          "base_uri": "https://localhost:8080/",
          "height": 34
        },
        "outputId": "a0b4d7e6-c4de-4b5e-c5ad-26d1bc70ae62"
      },
      "source": [
        "a = \"Hello, World!\"\n",
        "print(a.split(\",\")) # returns ['Hello', ' World!'] "
      ],
      "execution_count": 23,
      "outputs": [
        {
          "output_type": "stream",
          "text": [
            "['Hello', ' World!']\n"
          ],
          "name": "stdout"
        }
      ]
    },
    {
      "cell_type": "markdown",
      "metadata": {
        "id": "ykjUgdwY6s0D",
        "colab_type": "text"
      },
      "source": [
        "# **Check String**\n",
        "\n",
        "To check if a certain phrase or character is present in a string, we can use the keywords `in` or `not in`."
      ]
    },
    {
      "cell_type": "markdown",
      "metadata": {
        "id": "xGPuAEu_65jT",
        "colab_type": "text"
      },
      "source": [
        "Check if the phrase \"ain\" is present in the following text:"
      ]
    },
    {
      "cell_type": "code",
      "metadata": {
        "id": "wnH5kfTH6mBK",
        "colab_type": "code",
        "colab": {
          "base_uri": "https://localhost:8080/",
          "height": 34
        },
        "outputId": "727efe4a-df77-4dea-8d72-4078e1fa938d"
      },
      "source": [
        " txt = \"The rain in Spain stays mainly in the plain\"\n",
        "x = \"ain\" in txt\n",
        "print(x)"
      ],
      "execution_count": 24,
      "outputs": [
        {
          "output_type": "stream",
          "text": [
            "True\n"
          ],
          "name": "stdout"
        }
      ]
    },
    {
      "cell_type": "markdown",
      "metadata": {
        "id": "M5wh0__L6_o_",
        "colab_type": "text"
      },
      "source": [
        "Check if the phrase \"ain\" is NOT present in the following text:"
      ]
    },
    {
      "cell_type": "code",
      "metadata": {
        "id": "xgcs6YjZ67YY",
        "colab_type": "code",
        "colab": {
          "base_uri": "https://localhost:8080/",
          "height": 34
        },
        "outputId": "4412e02b-78b8-4912-fc1d-d971ac38879b"
      },
      "source": [
        "txt = \"The rain in Spain stays mainly in the plain\"\n",
        "x = \"ain\" not in txt\n",
        "print(x)  "
      ],
      "execution_count": 25,
      "outputs": [
        {
          "output_type": "stream",
          "text": [
            "False\n"
          ],
          "name": "stdout"
        }
      ]
    },
    {
      "cell_type": "markdown",
      "metadata": {
        "id": "5ypYDF8W7Dqg",
        "colab_type": "text"
      },
      "source": [
        "# **String Concatenation**\n",
        "\n",
        "To concatenate, or combine, two strings you can use the + operator."
      ]
    },
    {
      "cell_type": "code",
      "metadata": {
        "id": "SWaAmij27BOI",
        "colab_type": "code",
        "colab": {
          "base_uri": "https://localhost:8080/",
          "height": 34
        },
        "outputId": "610d9c39-3374-4453-97b5-b8dec06fb5f7"
      },
      "source": [
        "a = \"Hello\"\n",
        "b = \"World\"\n",
        "c = a + b\n",
        "print(c)"
      ],
      "execution_count": 26,
      "outputs": [
        {
          "output_type": "stream",
          "text": [
            "HelloWorld\n"
          ],
          "name": "stdout"
        }
      ]
    },
    {
      "cell_type": "code",
      "metadata": {
        "id": "Ts6mhXz97GaQ",
        "colab_type": "code",
        "colab": {
          "base_uri": "https://localhost:8080/",
          "height": 34
        },
        "outputId": "f52f443e-ff52-488d-83eb-cdd6fa83da07"
      },
      "source": [
        "a = \"Hello\"\n",
        "b = \"World\"\n",
        "c = a + \" \" + b\n",
        "print(c)"
      ],
      "execution_count": 27,
      "outputs": [
        {
          "output_type": "stream",
          "text": [
            "Hello World\n"
          ],
          "name": "stdout"
        }
      ]
    },
    {
      "cell_type": "markdown",
      "metadata": {
        "id": "qx-gbt5x7K0V",
        "colab_type": "text"
      },
      "source": [
        "# **String Format**\n",
        "\n",
        "As we learned in the Python Variables chapter, we cannot combine strings and numbers like this:"
      ]
    },
    {
      "cell_type": "code",
      "metadata": {
        "id": "feMsDWM37IU8",
        "colab_type": "code",
        "colab": {
          "base_uri": "https://localhost:8080/",
          "height": 200
        },
        "outputId": "5ac72366-e296-43f6-b937-a1826e41acf4"
      },
      "source": [
        "age = 36\n",
        "txt = \"My name is John, I am \" + (age)\n",
        "print(txt)"
      ],
      "execution_count": 30,
      "outputs": [
        {
          "output_type": "error",
          "ename": "TypeError",
          "evalue": "ignored",
          "traceback": [
            "\u001b[0;31m---------------------------------------------------------------------------\u001b[0m",
            "\u001b[0;31mTypeError\u001b[0m                                 Traceback (most recent call last)",
            "\u001b[0;32m<ipython-input-30-02e1a1486f44>\u001b[0m in \u001b[0;36m<module>\u001b[0;34m()\u001b[0m\n\u001b[1;32m      1\u001b[0m \u001b[0mage\u001b[0m \u001b[0;34m=\u001b[0m \u001b[0;36m36\u001b[0m\u001b[0;34m\u001b[0m\u001b[0;34m\u001b[0m\u001b[0m\n\u001b[0;32m----> 2\u001b[0;31m \u001b[0mtxt\u001b[0m \u001b[0;34m=\u001b[0m \u001b[0;34m\"My name is John, I am \"\u001b[0m \u001b[0;34m+\u001b[0m \u001b[0;34m(\u001b[0m\u001b[0mage\u001b[0m\u001b[0;34m)\u001b[0m\u001b[0;34m\u001b[0m\u001b[0;34m\u001b[0m\u001b[0m\n\u001b[0m\u001b[1;32m      3\u001b[0m \u001b[0mprint\u001b[0m\u001b[0;34m(\u001b[0m\u001b[0mtxt\u001b[0m\u001b[0;34m)\u001b[0m\u001b[0;34m\u001b[0m\u001b[0;34m\u001b[0m\u001b[0m\n",
            "\u001b[0;31mTypeError\u001b[0m: must be str, not int"
          ]
        }
      ]
    },
    {
      "cell_type": "markdown",
      "metadata": {
        "id": "0mjKZ1GI7qii",
        "colab_type": "text"
      },
      "source": [
        "But we can combine strings and numbers by using the `format()` method!\n",
        "\n",
        "The `format()` method takes the passed arguments, formats them, and places them in the string where the placeholders `{}` are:"
      ]
    },
    {
      "cell_type": "code",
      "metadata": {
        "id": "THvqwf7u7OWA",
        "colab_type": "code",
        "colab": {
          "base_uri": "https://localhost:8080/",
          "height": 34
        },
        "outputId": "a5fc64b7-101b-41e7-bec7-16fc34c956d5"
      },
      "source": [
        "age = 36\n",
        "txt = \"My name is John, and I am {}\"\n",
        "print(txt.format(age))"
      ],
      "execution_count": 31,
      "outputs": [
        {
          "output_type": "stream",
          "text": [
            "My name is John, and I am 36\n"
          ],
          "name": "stdout"
        }
      ]
    },
    {
      "cell_type": "markdown",
      "metadata": {
        "id": "jIVOgb0t70n3",
        "colab_type": "text"
      },
      "source": [
        "The format() method takes unlimited number of arguments, and are placed into the respective placeholders:"
      ]
    },
    {
      "cell_type": "code",
      "metadata": {
        "id": "3j9OxikY7x8D",
        "colab_type": "code",
        "colab": {
          "base_uri": "https://localhost:8080/",
          "height": 34
        },
        "outputId": "b0d84003-b51d-4bbd-9d45-040f22f9a71c"
      },
      "source": [
        "quantity = 3\n",
        "itemno = 567\n",
        "price = 49.95\n",
        "myorder = \"I want {} pieces of item {} for {} dollars.\"\n",
        "print(myorder.format(quantity, itemno, price))"
      ],
      "execution_count": 32,
      "outputs": [
        {
          "output_type": "stream",
          "text": [
            "I want 3 pieces of item 567 for 49.95 dollars.\n"
          ],
          "name": "stdout"
        }
      ]
    },
    {
      "cell_type": "markdown",
      "metadata": {
        "id": "oqZY2wyJ7_pd",
        "colab_type": "text"
      },
      "source": [
        "You can use index numbers `{0}` to be sure the arguments are placed in the correct placeholders:"
      ]
    },
    {
      "cell_type": "code",
      "metadata": {
        "id": "4FwEzZco72n8",
        "colab_type": "code",
        "colab": {
          "base_uri": "https://localhost:8080/",
          "height": 34
        },
        "outputId": "551b5de7-74a0-4d99-ec1a-1031ed2a1bf9"
      },
      "source": [
        "quantity = 3\n",
        "itemno = 567\n",
        "price = 49.95\n",
        "myorder = \"I want to pay {2} dollars for {0} pieces of item {1}.\"\n",
        "print(myorder.format(quantity, itemno, price))"
      ],
      "execution_count": 33,
      "outputs": [
        {
          "output_type": "stream",
          "text": [
            "I want to pay 49.95 dollars for 3 pieces of item 567.\n"
          ],
          "name": "stdout"
        }
      ]
    },
    {
      "cell_type": "markdown",
      "metadata": {
        "id": "XoNbCWLO8Mwd",
        "colab_type": "text"
      },
      "source": [
        "# **Escape Character**\n",
        "\n",
        "To insert characters that are illegal in a string, use an escape character.\n",
        "\n",
        "An escape character is a backslash `\\` followed by the character you want to insert.\n",
        "\n",
        "An example of an illegal character is a double quote inside a string that is surrounded by double quotes:"
      ]
    },
    {
      "cell_type": "markdown",
      "metadata": {
        "id": "D1sNd-JA8TuP",
        "colab_type": "text"
      },
      "source": [
        "**Example**\n",
        "\n",
        "You will get an error if you use double quotes inside a string that is surrounded by double quotes:"
      ]
    },
    {
      "cell_type": "code",
      "metadata": {
        "id": "4y9YVpdB8FCP",
        "colab_type": "code",
        "colab": {
          "base_uri": "https://localhost:8080/",
          "height": 130
        },
        "outputId": "3222390a-05fb-4c5b-adf3-314174546a7d"
      },
      "source": [
        "txt = \"We are the so-called \"Vikings\" from the north.\""
      ],
      "execution_count": 34,
      "outputs": [
        {
          "output_type": "error",
          "ename": "SyntaxError",
          "evalue": "ignored",
          "traceback": [
            "\u001b[0;36m  File \u001b[0;32m\"<ipython-input-34-56cdf4283a8e>\"\u001b[0;36m, line \u001b[0;32m1\u001b[0m\n\u001b[0;31m    txt = \"We are the so-called \"Vikings\" from the north.\"\u001b[0m\n\u001b[0m                                       ^\u001b[0m\n\u001b[0;31mSyntaxError\u001b[0m\u001b[0;31m:\u001b[0m invalid syntax\n"
          ]
        }
      ]
    },
    {
      "cell_type": "markdown",
      "metadata": {
        "id": "kkBxabV48arR",
        "colab_type": "text"
      },
      "source": [
        "To fix this problem, use the escape character `\\\"`:"
      ]
    },
    {
      "cell_type": "code",
      "metadata": {
        "id": "wAmTnrwY8WE7",
        "colab_type": "code",
        "colab": {}
      },
      "source": [
        "txt = \"We are the so-called \\\"Vikings\\\" from the north.\""
      ],
      "execution_count": 0,
      "outputs": []
    },
    {
      "cell_type": "markdown",
      "metadata": {
        "id": "jLLj045q8jRK",
        "colab_type": "text"
      },
      "source": [
        "Other escape characters used in *Python*:"
      ]
    },
    {
      "cell_type": "markdown",
      "metadata": {
        "id": "nE19Fu9W8w8I",
        "colab_type": "text"
      },
      "source": [
        "```\n",
        "Code \t  Result \t        \n",
        "\\' \t    Single Quote \t\n",
        "\\\\ \t    Backslash \t\n",
        "\\n \t    New Line \t\n",
        "\\r \t    Carriage Return \t\n",
        "\\t \t    Tab \t\n",
        "\\b \t    Backspace \t\n",
        "\\f \t    Form Feed \t\n",
        "\\ooo \t  Octal value \t\n",
        "\\xhh \t  Hex value\n",
        "```"
      ]
    },
    {
      "cell_type": "markdown",
      "metadata": {
        "id": "9zOW33Hk-Vau",
        "colab_type": "text"
      },
      "source": [
        "# **String Methods**\n",
        "\n",
        "Python has a set of built-in methods that you can use on strings."
      ]
    },
    {
      "cell_type": "markdown",
      "metadata": {
        "id": "dg9X2bMx-ce5",
        "colab_type": "text"
      },
      "source": [
        "```\n",
        "Method \t      Description\n",
        "capitalize()\tConverts the first character to upper case\n",
        "casefold()\t  Converts string into lower case\n",
        "center()\t    Returns a centered string\n",
        "count()\t     Returns the number of times a specified value occurs in a string\n",
        "encode()\t    Returns an encoded version of the string\n",
        "endswith()\t  Returns true if the string ends with the specified value\n",
        "expandtabs()\tSets the tab size of the string\n",
        "find()\t      Searches the string for a specified value and returns the position of where it was found\n",
        "format()\t    Formats specified values in a string\n",
        "format_map()\tFormats specified values in a string\n",
        "index()\t     Searches the string for a specified value and returns the position of where it was found\n",
        "isalnum()\t   Returns True if all characters in the string are alphanumeric\n",
        "isalpha()\t   Returns True if all characters in the string are in the alphabet\n",
        "isdecimal()\t Returns True if all characters in the string are decimals\n",
        "isdigit()\t   Returns True if all characters in the string are digits\n",
        "isidentifier()  Returns True if the string is an identifier\n",
        "islower()\t   Returns True if all characters in the string are lower case\n",
        "isnumeric()\t Returns True if all characters in the string are numeric\n",
        "isprintable()   Returns True if all characters in the string are printable\n",
        "isspace()\t   Returns True if all characters in the string are whitespaces\n",
        "istitle() \t  Returns True if the string follows the rules of a title\n",
        "isupper()\t   Returns True if all characters in the string are upper case\n",
        "join()\t      Joins the elements of an iterable to the end of the string\n",
        "ljust()\t     Returns a left justified version of the string\n",
        "lower()\t     Converts a string into lower case\n",
        "lstrip()\t    Returns a left trim version of the string\n",
        "maketrans()\t Returns a translation table to be used in translations\n",
        "partition()\t Returns a tuple where the string is parted into three parts\n",
        "replace()\t   Returns a string where a specified value is replaced with a specified value\n",
        "rfind()\t     Searches the string for a specified value and returns the last position of where it was found\n",
        "rindex()\t    Searches the string for a specified value and returns the last position of where it was found\n",
        "rjust()\t     Returns a right justified version of the string\n",
        "rpartition()\tReturns a tuple where the string is parted into three parts\n",
        "rsplit()\t    Splits the string at the specified separator, and returns a list\n",
        "rstrip()\t    Returns a right trim version of the string\n",
        "split()\t     Splits the string at the specified separator, and returns a list\n",
        "splitlines()\tSplits the string at line breaks and returns a list\n",
        "startswith()\tReturns true if the string starts with the specified value\n",
        "strip()\t     Returns a trimmed version of the string\n",
        "swapcase()\t  Swaps cases, lower case becomes upper case and vice versa\n",
        "title()\t     Converts the first character of each word to upper case\n",
        "translate()\t Returns a translated string\n",
        "upper()\t     Converts a string into upper case\n",
        "zfill()     \tFills the string with a specified number of 0 values at the beginning\n",
        "\n",
        "```\n",
        "\n"
      ]
    },
    {
      "cell_type": "markdown",
      "metadata": {
        "id": "wGnJ3qvC_uPa",
        "colab_type": "text"
      },
      "source": [
        "# **Boolean Values**\n",
        "\n",
        "In programming you often need to know if an expression is True or False.\n",
        "\n",
        "You can evaluate any expression in Python, and get one of two answers, True or False.\n",
        "\n",
        "When you compare two values, the expression is evaluated and Python returns the Boolean answer:"
      ]
    },
    {
      "cell_type": "code",
      "metadata": {
        "id": "1xcz6TQF8z0y",
        "colab_type": "code",
        "colab": {
          "base_uri": "https://localhost:8080/",
          "height": 69
        },
        "outputId": "b9ad27ef-93f5-4355-9ce8-e274625b94a2"
      },
      "source": [
        "print(10 > 9)\n",
        "print(10 == 9)\n",
        "print(10 < 9)"
      ],
      "execution_count": 36,
      "outputs": [
        {
          "output_type": "stream",
          "text": [
            "True\n",
            "False\n",
            "False\n"
          ],
          "name": "stdout"
        }
      ]
    },
    {
      "cell_type": "markdown",
      "metadata": {
        "id": "HgeX0Wwo_4sw",
        "colab_type": "text"
      },
      "source": [
        "When you run a condition in an if statement, Python returns True or False:"
      ]
    },
    {
      "cell_type": "code",
      "metadata": {
        "id": "l3iXGg1q_0XG",
        "colab_type": "code",
        "colab": {}
      },
      "source": [
        ""
      ],
      "execution_count": 0,
      "outputs": []
    }
  ]
}