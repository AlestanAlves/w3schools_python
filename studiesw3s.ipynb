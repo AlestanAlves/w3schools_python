{
  "nbformat": 4,
  "nbformat_minor": 0,
  "metadata": {
    "colab": {
      "name": "studiesw3s.ipynb",
      "provenance": [],
      "include_colab_link": true
    },
    "kernelspec": {
      "name": "python3",
      "display_name": "Python 3"
    }
  },
  "cells": [
    {
      "cell_type": "markdown",
      "metadata": {
        "id": "view-in-github",
        "colab_type": "text"
      },
      "source": [
        "<a href=\"https://colab.research.google.com/github/AlestanAlves/w3schools_python/blob/master/studiesw3s.ipynb\" target=\"_parent\"><img src=\"https://colab.research.google.com/assets/colab-badge.svg\" alt=\"Open In Colab\"/></a>"
      ]
    },
    {
      "cell_type": "markdown",
      "metadata": {
        "id": "6H5NCZG5uxZN",
        "colab_type": "text"
      },
      "source": [
        "# **Full course python w3schools** \n",
        "[w3s](https://www.w3schools.com/python/default.asp)\n",
        "\n",
        "\n"
      ]
    },
    {
      "cell_type": "code",
      "metadata": {
        "id": "MH0_K8K9lz47",
        "colab_type": "code",
        "colab": {}
      },
      "source": [
        "x = \"Hello World\" \t#str \t\n",
        "x = 20 \t#int \t\n",
        "x = 20.5 \t#float \t\n",
        "x = 1j \t#complex \t\n",
        "x = [\"apple\", \"banana\", \"cherry\"] \t#list \t\n",
        "x = (\"apple\", \"banana\", \"cherry\") \t#tuple \t\n",
        "x = range(6) \t#range \t\n",
        "x = {\"name\" : \"John\", \"age\" : 36} \t#dict \t\n",
        "x = {\"apple\", \"banana\", \"cherry\"} \t#set \t\n",
        "x = frozenset({\"apple\", \"banana\", \"cherry\"}) \t#frozenset \t\n",
        "x = True \t#bool \t\n",
        "x = b\"Hello\" \t#bytes \t\n",
        "x = bytearray(5) \t#bytearray \t\n",
        "x = memoryview(bytes(5)) \t#memoryview"
      ],
      "execution_count": 0,
      "outputs": []
    },
    {
      "cell_type": "code",
      "metadata": {
        "id": "sZdO3kjeqWYj",
        "colab_type": "code",
        "colab": {
          "base_uri": "https://localhost:8080/",
          "height": 69
        },
        "outputId": "ad76364a-e017-4a16-bf8e-6e382251f7e1"
      },
      "source": [
        "x = 1    # int\n",
        "y = 2.8  # float\n",
        "z = 1j   # complex\n",
        "print(type(x))\n",
        "print(type(y))\n",
        "print(type(z))"
      ],
      "execution_count": 2,
      "outputs": [
        {
          "output_type": "stream",
          "text": [
            "<class 'int'>\n",
            "<class 'float'>\n",
            "<class 'complex'>\n"
          ],
          "name": "stdout"
        }
      ]
    },
    {
      "cell_type": "markdown",
      "metadata": {
        "id": "Fm1YGXnjrPFf",
        "colab_type": "text"
      },
      "source": [
        "## **int**\n",
        "Int, or integer, is a whole number, positive or negative, without decimals, of unlimited length."
      ]
    },
    {
      "cell_type": "code",
      "metadata": {
        "id": "jhcwXHypqnhO",
        "colab_type": "code",
        "colab": {
          "base_uri": "https://localhost:8080/",
          "height": 69
        },
        "outputId": "3b84dcb8-04ba-4c65-fc0c-e89113f87b34"
      },
      "source": [
        "x = 1\n",
        "y = 35656222554887711\n",
        "z = -3255522\n",
        "\n",
        "print(type(x))\n",
        "print(type(y))\n",
        "print(type(z)) "
      ],
      "execution_count": 3,
      "outputs": [
        {
          "output_type": "stream",
          "text": [
            "<class 'int'>\n",
            "<class 'int'>\n",
            "<class 'int'>\n"
          ],
          "name": "stdout"
        }
      ]
    },
    {
      "cell_type": "markdown",
      "metadata": {
        "id": "4LSrUQlBrkXj",
        "colab_type": "text"
      },
      "source": [
        "# **Float**\n",
        "\n",
        "Float, or \"floating point number\" is a number, positive or negative, containing one or more decimals."
      ]
    },
    {
      "cell_type": "code",
      "metadata": {
        "id": "T80B8JdRrbhU",
        "colab_type": "code",
        "colab": {
          "base_uri": "https://localhost:8080/",
          "height": 69
        },
        "outputId": "dbbf7487-b949-406a-f917-a9ff25fd6970"
      },
      "source": [
        "x = 1.10\n",
        "y = 1.0\n",
        "z = -35.59\n",
        "\n",
        "print(type(x))\n",
        "print(type(y))\n",
        "print(type(z)) "
      ],
      "execution_count": 4,
      "outputs": [
        {
          "output_type": "stream",
          "text": [
            "<class 'float'>\n",
            "<class 'float'>\n",
            "<class 'float'>\n"
          ],
          "name": "stdout"
        }
      ]
    },
    {
      "cell_type": "markdown",
      "metadata": {
        "id": "4eLF1qtsr0Ph",
        "colab_type": "text"
      },
      "source": [
        "Float can also be scientific numbers with an \"e\" to indicate the power of 10."
      ]
    },
    {
      "cell_type": "code",
      "metadata": {
        "id": "WuaXx-OJrtv4",
        "colab_type": "code",
        "colab": {
          "base_uri": "https://localhost:8080/",
          "height": 69
        },
        "outputId": "083216d7-1bf3-434d-dd32-e9792f021534"
      },
      "source": [
        "x = 35e3\n",
        "y = 12E4\n",
        "z = -87.7e100\n",
        "\n",
        "print(type(x))\n",
        "print(type(y))\n",
        "print(type(z)) "
      ],
      "execution_count": 5,
      "outputs": [
        {
          "output_type": "stream",
          "text": [
            "<class 'float'>\n",
            "<class 'float'>\n",
            "<class 'float'>\n"
          ],
          "name": "stdout"
        }
      ]
    },
    {
      "cell_type": "markdown",
      "metadata": {
        "id": "QA1G-AmSsHjI",
        "colab_type": "text"
      },
      "source": [
        "# **Complex**\n",
        "\n",
        "Complex numbers are written with a \"j\" as the imaginary part:"
      ]
    },
    {
      "cell_type": "code",
      "metadata": {
        "id": "lvzk7kLPsI3r",
        "colab_type": "code",
        "colab": {
          "base_uri": "https://localhost:8080/",
          "height": 69
        },
        "outputId": "91ca9617-b3f1-4a97-f3c1-29f3dd19bc88"
      },
      "source": [
        "x = 3+5j\n",
        "y = 5j\n",
        "z = -5j\n",
        "\n",
        "print(type(x))\n",
        "print(type(y))\n",
        "print(type(z)) "
      ],
      "execution_count": 6,
      "outputs": [
        {
          "output_type": "stream",
          "text": [
            "<class 'complex'>\n",
            "<class 'complex'>\n",
            "<class 'complex'>\n"
          ],
          "name": "stdout"
        }
      ]
    },
    {
      "cell_type": "markdown",
      "metadata": {
        "id": "g5-NOmF2sloD",
        "colab_type": "text"
      },
      "source": [
        "# **Type Conversion**\n",
        "\n",
        "You can convert from one type to another with the `int()`, `float(`), and `complex()` methods:"
      ]
    },
    {
      "cell_type": "code",
      "metadata": {
        "id": "e5txJHRVs23d",
        "colab_type": "code",
        "colab": {
          "base_uri": "https://localhost:8080/",
          "height": 121
        },
        "outputId": "4cae06ab-4103-46b0-84f1-c0d58bcc51af"
      },
      "source": [
        "x = 1 # int\n",
        "y = 2.8 # float\n",
        "z = 1j # complex\n",
        "\n",
        "#convert from int to float:\n",
        "a = float(x)\n",
        "\n",
        "#convert from float to int:\n",
        "b = int(y)\n",
        "\n",
        "#convert from int to complex:\n",
        "c = complex(x)\n",
        "\n",
        "print(a)\n",
        "print(b)\n",
        "print(c)\n",
        "\n",
        "print(type(a))\n",
        "print(type(b))\n",
        "print(type(c)) "
      ],
      "execution_count": 7,
      "outputs": [
        {
          "output_type": "stream",
          "text": [
            "1.0\n",
            "2\n",
            "(1+0j)\n",
            "<class 'float'>\n",
            "<class 'int'>\n",
            "<class 'complex'>\n"
          ],
          "name": "stdout"
        }
      ]
    },
    {
      "cell_type": "markdown",
      "metadata": {
        "id": "xBN6u2aOtCTy",
        "colab_type": "text"
      },
      "source": [
        "\n",
        "# **Random Number**\n",
        "\n",
        "Python does not have a random() function to make a random number, but Python has a built-in module called random that can be used to make random numbers:"
      ]
    },
    {
      "cell_type": "code",
      "metadata": {
        "id": "06SLK7uJsMpt",
        "colab_type": "code",
        "colab": {
          "base_uri": "https://localhost:8080/",
          "height": 34
        },
        "outputId": "c45142fb-4ec7-4b62-f1a0-7c730d5ecf26"
      },
      "source": [
        "import random\n",
        "\n",
        "print(random.randrange(1,10)) "
      ],
      "execution_count": 9,
      "outputs": [
        {
          "output_type": "stream",
          "text": [
            "6\n"
          ],
          "name": "stdout"
        }
      ]
    },
    {
      "cell_type": "markdown",
      "metadata": {
        "id": "UVsvXCmjusWc",
        "colab_type": "text"
      },
      "source": [
        "# **Strings are Arrays**\n",
        "\n",
        "Like many other popular programming languages, strings in Python are arrays of bytes representing unicode characters.\n",
        "\n",
        "However, Python does not have a character data type, a single character is simply a string with a length of 1.\n",
        "Square brackets can be used to access elements of the string.\n",
        "\n",
        "Casting in python is therefore done using constructor functions:\n",
        "\n",
        "- int() - constructs an integer number from an integer literal, a float literal (by rounding down to the previous whole number), or a string literal (providing the string represents a whole number)\n",
        "- float() - constructs a float number from an integer literal, a float literal or a string literal (providing the string represents a float or an integer)\n",
        "- str() - constructs a string from a wide variety of data types, including strings, integer literals and float literals\n"
      ]
    },
    {
      "cell_type": "code",
      "metadata": {
        "id": "2bxsTufItTLn",
        "colab_type": "code",
        "colab": {}
      },
      "source": [
        "x = int(1)   # x will be 1\n",
        "y = int(2.8) # y will be 2\n",
        "z = int(\"3\") # z will be 3"
      ],
      "execution_count": 0,
      "outputs": []
    },
    {
      "cell_type": "code",
      "metadata": {
        "id": "jEvtNn9HxrOA",
        "colab_type": "code",
        "colab": {}
      },
      "source": [
        "x = float(1)     # x will be 1.0\n",
        "y = float(2.8)   # y will be 2.8\n",
        "z = float(\"3\")   # z will be 3.0\n",
        "w = float(\"4.2\") # w will be 4.2"
      ],
      "execution_count": 0,
      "outputs": []
    },
    {
      "cell_type": "code",
      "metadata": {
        "id": "6TtDs9kkxyfZ",
        "colab_type": "code",
        "colab": {}
      },
      "source": [
        " x = str(\"s1\") # x will be 's1'\n",
        "y = str(2)    # y will be '2'\n",
        "z = str(3.0)  # z will be '3.0' "
      ],
      "execution_count": 0,
      "outputs": []
    },
    {
      "cell_type": "markdown",
      "metadata": {
        "id": "ltuEr3QDx-Xp",
        "colab_type": "text"
      },
      "source": [
        "# **String Literals**\n",
        "\n",
        "String literals in python are surrounded by either single quotation marks, or double quotation marks.\n",
        "\n",
        "'hello' is the same as \"hello\".\n",
        "\n",
        "You can display a string literal with the print() function:"
      ]
    },
    {
      "cell_type": "code",
      "metadata": {
        "id": "gAt_cDorx2o0",
        "colab_type": "code",
        "colab": {
          "base_uri": "https://localhost:8080/",
          "height": 52
        },
        "outputId": "9a31ff2f-8d0d-4604-d0bf-92ea51272f82"
      },
      "source": [
        "print(\"Hello\")\n",
        "print('Hello')"
      ],
      "execution_count": 13,
      "outputs": [
        {
          "output_type": "stream",
          "text": [
            "Hello\n",
            "Hello\n"
          ],
          "name": "stdout"
        }
      ]
    },
    {
      "cell_type": "markdown",
      "metadata": {
        "id": "_R8lJsHc3oaZ",
        "colab_type": "text"
      },
      "source": [
        "# **Assign String to a Variable**\n",
        "\n",
        "Assigning a string to a variable is done with the variable name followed by an equal sign and the string:"
      ]
    },
    {
      "cell_type": "code",
      "metadata": {
        "id": "yyWbQFHz3aKI",
        "colab_type": "code",
        "colab": {
          "base_uri": "https://localhost:8080/",
          "height": 34
        },
        "outputId": "6f5969ae-5768-4c12-f541-9862fc8b2175"
      },
      "source": [
        "a = \"Hello\"\n",
        "print(a) "
      ],
      "execution_count": 14,
      "outputs": [
        {
          "output_type": "stream",
          "text": [
            "Hello\n"
          ],
          "name": "stdout"
        }
      ]
    },
    {
      "cell_type": "markdown",
      "metadata": {
        "id": "snccXoqf32pp",
        "colab_type": "text"
      },
      "source": [
        "# **Multiline Strings**\n",
        "\n",
        "You can assign a multiline string to a variable by using three quotes:"
      ]
    },
    {
      "cell_type": "code",
      "metadata": {
        "id": "hX3W4yKo3zQ_",
        "colab_type": "code",
        "colab": {
          "base_uri": "https://localhost:8080/",
          "height": 86
        },
        "outputId": "f9c821b3-2da3-4ef5-95a2-c99d17f06710"
      },
      "source": [
        " a = \"\"\"Lorem ipsum dolor sit amet,\n",
        "consectetur adipiscing elit,\n",
        "sed do eiusmod tempor incididunt\n",
        "ut labore et dolore magna aliqua.\"\"\"\n",
        "print(a) "
      ],
      "execution_count": 15,
      "outputs": [
        {
          "output_type": "stream",
          "text": [
            "Lorem ipsum dolor sit amet,\n",
            "consectetur adipiscing elit,\n",
            "sed do eiusmod tempor incididunt\n",
            "ut labore et dolore magna aliqua.\n"
          ],
          "name": "stdout"
        }
      ]
    },
    {
      "cell_type": "markdown",
      "metadata": {
        "id": "tj4dIk2a4AcF",
        "colab_type": "text"
      },
      "source": [
        "# **Strings are Arrays**\n",
        "\n",
        "Like many other popular programming languages, strings in Python are arrays of bytes representing unicode characters.\n",
        "\n",
        "However, Python does not have a character data type, a single character is simply a string with a length of 1.\n",
        "\n",
        "Square brackets can be used to access elements of the string."
      ]
    },
    {
      "cell_type": "code",
      "metadata": {
        "id": "huKFm-dh3560",
        "colab_type": "code",
        "colab": {
          "base_uri": "https://localhost:8080/",
          "height": 34
        },
        "outputId": "eacfb005-6bd3-4425-f8db-4a3d78f3834d"
      },
      "source": [
        "a = \"Hello, World!\"\n",
        "print(a[1])"
      ],
      "execution_count": 16,
      "outputs": [
        {
          "output_type": "stream",
          "text": [
            "e\n"
          ],
          "name": "stdout"
        }
      ]
    },
    {
      "cell_type": "markdown",
      "metadata": {
        "id": "1Y8elZ7_4IVH",
        "colab_type": "text"
      },
      "source": [
        "# **Slicing**\n",
        "\n",
        "You can return a range of characters by using the slice syntax.\n",
        "\n",
        "Specify the start index and the end index, separated by a colon, to return a part of the string."
      ]
    },
    {
      "cell_type": "code",
      "metadata": {
        "id": "a-eTLtQ24FFw",
        "colab_type": "code",
        "colab": {
          "base_uri": "https://localhost:8080/",
          "height": 34
        },
        "outputId": "246620a6-2ab4-4ae9-ea6f-3b6ce6eff64b"
      },
      "source": [
        "b = \"Hello, World!\"\n",
        "print(b[2:5])"
      ],
      "execution_count": 17,
      "outputs": [
        {
          "output_type": "stream",
          "text": [
            "llo\n"
          ],
          "name": "stdout"
        }
      ]
    },
    {
      "cell_type": "markdown",
      "metadata": {
        "id": "8v2BCD4j41Vn",
        "colab_type": "text"
      },
      "source": [
        "# **Negative Indexing**\n",
        "Use negative indexes to start the slice from the end of the string:\n"
      ]
    },
    {
      "cell_type": "code",
      "metadata": {
        "id": "rgOdq48c4L9w",
        "colab_type": "code",
        "colab": {
          "base_uri": "https://localhost:8080/",
          "height": 34
        },
        "outputId": "9976b627-6bd3-455e-c183-05485ea1aaaa"
      },
      "source": [
        "b = \"Hello, World!\"\n",
        "print(b[-5:-2])"
      ],
      "execution_count": 18,
      "outputs": [
        {
          "output_type": "stream",
          "text": [
            "orl\n"
          ],
          "name": "stdout"
        }
      ]
    },
    {
      "cell_type": "markdown",
      "metadata": {
        "id": "C34HEKO-5Atv",
        "colab_type": "text"
      },
      "source": [
        "# **String Length**\n",
        "\n",
        "To get the length of a string, use the len() function"
      ]
    },
    {
      "cell_type": "code",
      "metadata": {
        "id": "k9GkibKt451b",
        "colab_type": "code",
        "colab": {
          "base_uri": "https://localhost:8080/",
          "height": 34
        },
        "outputId": "8a00be42-c9d8-41c9-a3cf-5d31ac4779b4"
      },
      "source": [
        "a = \"Hello, World!\"\n",
        "print(len(a))"
      ],
      "execution_count": 19,
      "outputs": [
        {
          "output_type": "stream",
          "text": [
            "13\n"
          ],
          "name": "stdout"
        }
      ]
    },
    {
      "cell_type": "markdown",
      "metadata": {
        "id": "RhhOcR415Iij",
        "colab_type": "text"
      },
      "source": [
        "# **String Methods**\n",
        "\n",
        "Python has a set of built-in methods that you can use on strings."
      ]
    },
    {
      "cell_type": "code",
      "metadata": {
        "id": "M46pyrtf5Iaj",
        "colab_type": "code",
        "colab": {
          "base_uri": "https://localhost:8080/",
          "height": 34
        },
        "outputId": "49613072-ee44-4b29-ed7d-c6d73d3ca225"
      },
      "source": [
        "a = \" Hello, World! \"\n",
        "print(a.strip()) # returns \"Hello, World!\" "
      ],
      "execution_count": 20,
      "outputs": [
        {
          "output_type": "stream",
          "text": [
            "Hello, World!\n"
          ],
          "name": "stdout"
        }
      ]
    },
    {
      "cell_type": "markdown",
      "metadata": {
        "id": "h2ldydHj5gbK",
        "colab_type": "text"
      },
      "source": [
        "## **Lower** (letras pequenas)"
      ]
    },
    {
      "cell_type": "code",
      "metadata": {
        "id": "DsWRFraI5Dsa",
        "colab_type": "code",
        "colab": {
          "base_uri": "https://localhost:8080/",
          "height": 34
        },
        "outputId": "df1bb471-d9ec-455f-df86-389beb6eb83a"
      },
      "source": [
        "a = \"Hello, World!\"\n",
        "print(a.lower())"
      ],
      "execution_count": 21,
      "outputs": [
        {
          "output_type": "stream",
          "text": [
            "hello, world!\n"
          ],
          "name": "stdout"
        }
      ]
    },
    {
      "cell_type": "markdown",
      "metadata": {
        "id": "4ABx1Lvo5rKQ",
        "colab_type": "text"
      },
      "source": [
        "## **Upper** (letras maiores)"
      ]
    },
    {
      "cell_type": "code",
      "metadata": {
        "id": "X1MMk4us5mBe",
        "colab_type": "code",
        "colab": {
          "base_uri": "https://localhost:8080/",
          "height": 34
        },
        "outputId": "a8e64c02-04f1-4ee3-d34d-5cdb97a32b76"
      },
      "source": [
        "a = \"Hello, World!\"\n",
        "print(a.upper())"
      ],
      "execution_count": 22,
      "outputs": [
        {
          "output_type": "stream",
          "text": [
            "HELLO, WORLD!\n"
          ],
          "name": "stdout"
        }
      ]
    },
    {
      "cell_type": "markdown",
      "metadata": {
        "id": "GAyzYohR6gZ_",
        "colab_type": "text"
      },
      "source": [
        "## **Split**"
      ]
    },
    {
      "cell_type": "markdown",
      "metadata": {
        "id": "eXV-t5YF6j5q",
        "colab_type": "text"
      },
      "source": [
        "The split() method splits the string into substrings if it finds instances of the separator:"
      ]
    },
    {
      "cell_type": "code",
      "metadata": {
        "id": "ggLT5C6J6CpP",
        "colab_type": "code",
        "colab": {
          "base_uri": "https://localhost:8080/",
          "height": 34
        },
        "outputId": "a0b4d7e6-c4de-4b5e-c5ad-26d1bc70ae62"
      },
      "source": [
        "a = \"Hello, World!\"\n",
        "print(a.split(\",\")) # returns ['Hello', ' World!'] "
      ],
      "execution_count": 23,
      "outputs": [
        {
          "output_type": "stream",
          "text": [
            "['Hello', ' World!']\n"
          ],
          "name": "stdout"
        }
      ]
    },
    {
      "cell_type": "markdown",
      "metadata": {
        "id": "ykjUgdwY6s0D",
        "colab_type": "text"
      },
      "source": [
        "# **Check String**\n",
        "\n",
        "To check if a certain phrase or character is present in a string, we can use the keywords `in` or `not in`."
      ]
    },
    {
      "cell_type": "markdown",
      "metadata": {
        "id": "xGPuAEu_65jT",
        "colab_type": "text"
      },
      "source": [
        "Check if the phrase \"ain\" is present in the following text:"
      ]
    },
    {
      "cell_type": "code",
      "metadata": {
        "id": "wnH5kfTH6mBK",
        "colab_type": "code",
        "colab": {
          "base_uri": "https://localhost:8080/",
          "height": 34
        },
        "outputId": "727efe4a-df77-4dea-8d72-4078e1fa938d"
      },
      "source": [
        " txt = \"The rain in Spain stays mainly in the plain\"\n",
        "x = \"ain\" in txt\n",
        "print(x)"
      ],
      "execution_count": 24,
      "outputs": [
        {
          "output_type": "stream",
          "text": [
            "True\n"
          ],
          "name": "stdout"
        }
      ]
    },
    {
      "cell_type": "markdown",
      "metadata": {
        "id": "M5wh0__L6_o_",
        "colab_type": "text"
      },
      "source": [
        "Check if the phrase \"ain\" is NOT present in the following text:"
      ]
    },
    {
      "cell_type": "code",
      "metadata": {
        "id": "xgcs6YjZ67YY",
        "colab_type": "code",
        "colab": {
          "base_uri": "https://localhost:8080/",
          "height": 34
        },
        "outputId": "4412e02b-78b8-4912-fc1d-d971ac38879b"
      },
      "source": [
        "txt = \"The rain in Spain stays mainly in the plain\"\n",
        "x = \"ain\" not in txt\n",
        "print(x)  "
      ],
      "execution_count": 25,
      "outputs": [
        {
          "output_type": "stream",
          "text": [
            "False\n"
          ],
          "name": "stdout"
        }
      ]
    },
    {
      "cell_type": "markdown",
      "metadata": {
        "id": "5ypYDF8W7Dqg",
        "colab_type": "text"
      },
      "source": [
        "# **String Concatenation**\n",
        "\n",
        "To concatenate, or combine, two strings you can use the + operator."
      ]
    },
    {
      "cell_type": "code",
      "metadata": {
        "id": "SWaAmij27BOI",
        "colab_type": "code",
        "colab": {
          "base_uri": "https://localhost:8080/",
          "height": 34
        },
        "outputId": "610d9c39-3374-4453-97b5-b8dec06fb5f7"
      },
      "source": [
        "a = \"Hello\"\n",
        "b = \"World\"\n",
        "c = a + b\n",
        "print(c)"
      ],
      "execution_count": 26,
      "outputs": [
        {
          "output_type": "stream",
          "text": [
            "HelloWorld\n"
          ],
          "name": "stdout"
        }
      ]
    },
    {
      "cell_type": "code",
      "metadata": {
        "id": "Ts6mhXz97GaQ",
        "colab_type": "code",
        "colab": {
          "base_uri": "https://localhost:8080/",
          "height": 34
        },
        "outputId": "f52f443e-ff52-488d-83eb-cdd6fa83da07"
      },
      "source": [
        "a = \"Hello\"\n",
        "b = \"World\"\n",
        "c = a + \" \" + b\n",
        "print(c)"
      ],
      "execution_count": 27,
      "outputs": [
        {
          "output_type": "stream",
          "text": [
            "Hello World\n"
          ],
          "name": "stdout"
        }
      ]
    },
    {
      "cell_type": "markdown",
      "metadata": {
        "id": "qx-gbt5x7K0V",
        "colab_type": "text"
      },
      "source": [
        "# **String Format**\n",
        "\n",
        "As we learned in the Python Variables chapter, we cannot combine strings and numbers like this:"
      ]
    },
    {
      "cell_type": "code",
      "metadata": {
        "id": "feMsDWM37IU8",
        "colab_type": "code",
        "colab": {
          "base_uri": "https://localhost:8080/",
          "height": 200
        },
        "outputId": "5ac72366-e296-43f6-b937-a1826e41acf4"
      },
      "source": [
        "age = 36\n",
        "txt = \"My name is John, I am \" + (age)\n",
        "print(txt)"
      ],
      "execution_count": 30,
      "outputs": [
        {
          "output_type": "error",
          "ename": "TypeError",
          "evalue": "ignored",
          "traceback": [
            "\u001b[0;31m---------------------------------------------------------------------------\u001b[0m",
            "\u001b[0;31mTypeError\u001b[0m                                 Traceback (most recent call last)",
            "\u001b[0;32m<ipython-input-30-02e1a1486f44>\u001b[0m in \u001b[0;36m<module>\u001b[0;34m()\u001b[0m\n\u001b[1;32m      1\u001b[0m \u001b[0mage\u001b[0m \u001b[0;34m=\u001b[0m \u001b[0;36m36\u001b[0m\u001b[0;34m\u001b[0m\u001b[0;34m\u001b[0m\u001b[0m\n\u001b[0;32m----> 2\u001b[0;31m \u001b[0mtxt\u001b[0m \u001b[0;34m=\u001b[0m \u001b[0;34m\"My name is John, I am \"\u001b[0m \u001b[0;34m+\u001b[0m \u001b[0;34m(\u001b[0m\u001b[0mage\u001b[0m\u001b[0;34m)\u001b[0m\u001b[0;34m\u001b[0m\u001b[0;34m\u001b[0m\u001b[0m\n\u001b[0m\u001b[1;32m      3\u001b[0m \u001b[0mprint\u001b[0m\u001b[0;34m(\u001b[0m\u001b[0mtxt\u001b[0m\u001b[0;34m)\u001b[0m\u001b[0;34m\u001b[0m\u001b[0;34m\u001b[0m\u001b[0m\n",
            "\u001b[0;31mTypeError\u001b[0m: must be str, not int"
          ]
        }
      ]
    },
    {
      "cell_type": "markdown",
      "metadata": {
        "id": "0mjKZ1GI7qii",
        "colab_type": "text"
      },
      "source": [
        "But we can combine strings and numbers by using the `format()` method!\n",
        "\n",
        "The `format()` method takes the passed arguments, formats them, and places them in the string where the placeholders `{}` are:"
      ]
    },
    {
      "cell_type": "code",
      "metadata": {
        "id": "THvqwf7u7OWA",
        "colab_type": "code",
        "colab": {
          "base_uri": "https://localhost:8080/",
          "height": 34
        },
        "outputId": "a5fc64b7-101b-41e7-bec7-16fc34c956d5"
      },
      "source": [
        "age = 36\n",
        "txt = \"My name is John, and I am {}\"\n",
        "print(txt.format(age))"
      ],
      "execution_count": 31,
      "outputs": [
        {
          "output_type": "stream",
          "text": [
            "My name is John, and I am 36\n"
          ],
          "name": "stdout"
        }
      ]
    },
    {
      "cell_type": "markdown",
      "metadata": {
        "id": "jIVOgb0t70n3",
        "colab_type": "text"
      },
      "source": [
        "The format() method takes unlimited number of arguments, and are placed into the respective placeholders:"
      ]
    },
    {
      "cell_type": "code",
      "metadata": {
        "id": "3j9OxikY7x8D",
        "colab_type": "code",
        "colab": {
          "base_uri": "https://localhost:8080/",
          "height": 34
        },
        "outputId": "b0d84003-b51d-4bbd-9d45-040f22f9a71c"
      },
      "source": [
        "quantity = 3\n",
        "itemno = 567\n",
        "price = 49.95\n",
        "myorder = \"I want {} pieces of item {} for {} dollars.\"\n",
        "print(myorder.format(quantity, itemno, price))"
      ],
      "execution_count": 32,
      "outputs": [
        {
          "output_type": "stream",
          "text": [
            "I want 3 pieces of item 567 for 49.95 dollars.\n"
          ],
          "name": "stdout"
        }
      ]
    },
    {
      "cell_type": "markdown",
      "metadata": {
        "id": "oqZY2wyJ7_pd",
        "colab_type": "text"
      },
      "source": [
        "You can use index numbers `{0}` to be sure the arguments are placed in the correct placeholders:"
      ]
    },
    {
      "cell_type": "code",
      "metadata": {
        "id": "4FwEzZco72n8",
        "colab_type": "code",
        "colab": {
          "base_uri": "https://localhost:8080/",
          "height": 34
        },
        "outputId": "551b5de7-74a0-4d99-ec1a-1031ed2a1bf9"
      },
      "source": [
        "quantity = 3\n",
        "itemno = 567\n",
        "price = 49.95\n",
        "myorder = \"I want to pay {2} dollars for {0} pieces of item {1}.\"\n",
        "print(myorder.format(quantity, itemno, price))"
      ],
      "execution_count": 33,
      "outputs": [
        {
          "output_type": "stream",
          "text": [
            "I want to pay 49.95 dollars for 3 pieces of item 567.\n"
          ],
          "name": "stdout"
        }
      ]
    },
    {
      "cell_type": "markdown",
      "metadata": {
        "id": "XoNbCWLO8Mwd",
        "colab_type": "text"
      },
      "source": [
        "# **Escape Character**\n",
        "\n",
        "To insert characters that are illegal in a string, use an escape character.\n",
        "\n",
        "An escape character is a backslash `\\` followed by the character you want to insert.\n",
        "\n",
        "An example of an illegal character is a double quote inside a string that is surrounded by double quotes:"
      ]
    },
    {
      "cell_type": "markdown",
      "metadata": {
        "id": "D1sNd-JA8TuP",
        "colab_type": "text"
      },
      "source": [
        "**Example**\n",
        "\n",
        "You will get an error if you use double quotes inside a string that is surrounded by double quotes:"
      ]
    },
    {
      "cell_type": "code",
      "metadata": {
        "id": "4y9YVpdB8FCP",
        "colab_type": "code",
        "colab": {
          "base_uri": "https://localhost:8080/",
          "height": 130
        },
        "outputId": "3222390a-05fb-4c5b-adf3-314174546a7d"
      },
      "source": [
        "txt = \"We are the so-called \"Vikings\" from the north.\""
      ],
      "execution_count": 34,
      "outputs": [
        {
          "output_type": "error",
          "ename": "SyntaxError",
          "evalue": "ignored",
          "traceback": [
            "\u001b[0;36m  File \u001b[0;32m\"<ipython-input-34-56cdf4283a8e>\"\u001b[0;36m, line \u001b[0;32m1\u001b[0m\n\u001b[0;31m    txt = \"We are the so-called \"Vikings\" from the north.\"\u001b[0m\n\u001b[0m                                       ^\u001b[0m\n\u001b[0;31mSyntaxError\u001b[0m\u001b[0;31m:\u001b[0m invalid syntax\n"
          ]
        }
      ]
    },
    {
      "cell_type": "markdown",
      "metadata": {
        "id": "kkBxabV48arR",
        "colab_type": "text"
      },
      "source": [
        "To fix this problem, use the escape character `\\\"`:"
      ]
    },
    {
      "cell_type": "code",
      "metadata": {
        "id": "wAmTnrwY8WE7",
        "colab_type": "code",
        "colab": {}
      },
      "source": [
        "txt = \"We are the so-called \\\"Vikings\\\" from the north.\""
      ],
      "execution_count": 0,
      "outputs": []
    },
    {
      "cell_type": "markdown",
      "metadata": {
        "id": "jLLj045q8jRK",
        "colab_type": "text"
      },
      "source": [
        "Other escape characters used in *Python*:"
      ]
    },
    {
      "cell_type": "markdown",
      "metadata": {
        "id": "nE19Fu9W8w8I",
        "colab_type": "text"
      },
      "source": [
        "```\n",
        "Code \t  Result \t        \n",
        "\\' \t    Single Quote \t\n",
        "\\\\ \t    Backslash \t\n",
        "\\n \t    New Line \t\n",
        "\\r \t    Carriage Return \t\n",
        "\\t \t    Tab \t\n",
        "\\b \t    Backspace \t\n",
        "\\f \t    Form Feed \t\n",
        "\\ooo \t  Octal value \t\n",
        "\\xhh \t  Hex value\n",
        "```"
      ]
    },
    {
      "cell_type": "markdown",
      "metadata": {
        "id": "9zOW33Hk-Vau",
        "colab_type": "text"
      },
      "source": [
        "# **String Methods**\n",
        "\n",
        "Python has a set of built-in methods that you can use on strings."
      ]
    },
    {
      "cell_type": "markdown",
      "metadata": {
        "id": "dg9X2bMx-ce5",
        "colab_type": "text"
      },
      "source": [
        "```\n",
        "Method \t      Description\n",
        "capitalize()\tConverts the first character to upper case\n",
        "casefold()\t  Converts string into lower case\n",
        "center()\t    Returns a centered string\n",
        "count()\t     Returns the number of times a specified value occurs in a string\n",
        "encode()\t    Returns an encoded version of the string\n",
        "endswith()\t  Returns true if the string ends with the specified value\n",
        "expandtabs()\tSets the tab size of the string\n",
        "find()\t      Searches the string for a specified value and returns the position of where it was found\n",
        "format()\t    Formats specified values in a string\n",
        "format_map()\tFormats specified values in a string\n",
        "index()\t     Searches the string for a specified value and returns the position of where it was found\n",
        "isalnum()\t   Returns True if all characters in the string are alphanumeric\n",
        "isalpha()\t   Returns True if all characters in the string are in the alphabet\n",
        "isdecimal()\t Returns True if all characters in the string are decimals\n",
        "isdigit()\t   Returns True if all characters in the string are digits\n",
        "isidentifier()  Returns True if the string is an identifier\n",
        "islower()\t   Returns True if all characters in the string are lower case\n",
        "isnumeric()\t Returns True if all characters in the string are numeric\n",
        "isprintable()   Returns True if all characters in the string are printable\n",
        "isspace()\t   Returns True if all characters in the string are whitespaces\n",
        "istitle() \t  Returns True if the string follows the rules of a title\n",
        "isupper()\t   Returns True if all characters in the string are upper case\n",
        "join()\t      Joins the elements of an iterable to the end of the string\n",
        "ljust()\t     Returns a left justified version of the string\n",
        "lower()\t     Converts a string into lower case\n",
        "lstrip()\t    Returns a left trim version of the string\n",
        "maketrans()\t Returns a translation table to be used in translations\n",
        "partition()\t Returns a tuple where the string is parted into three parts\n",
        "replace()\t   Returns a string where a specified value is replaced with a specified value\n",
        "rfind()\t     Searches the string for a specified value and returns the last position of where it was found\n",
        "rindex()\t    Searches the string for a specified value and returns the last position of where it was found\n",
        "rjust()\t     Returns a right justified version of the string\n",
        "rpartition()\tReturns a tuple where the string is parted into three parts\n",
        "rsplit()\t    Splits the string at the specified separator, and returns a list\n",
        "rstrip()\t    Returns a right trim version of the string\n",
        "split()\t     Splits the string at the specified separator, and returns a list\n",
        "splitlines()\tSplits the string at line breaks and returns a list\n",
        "startswith()\tReturns true if the string starts with the specified value\n",
        "strip()\t     Returns a trimmed version of the string\n",
        "swapcase()\t  Swaps cases, lower case becomes upper case and vice versa\n",
        "title()\t     Converts the first character of each word to upper case\n",
        "translate()\t Returns a translated string\n",
        "upper()\t     Converts a string into upper case\n",
        "zfill()     \tFills the string with a specified number of 0 values at the beginning\n",
        "\n",
        "```\n",
        "\n"
      ]
    },
    {
      "cell_type": "markdown",
      "metadata": {
        "id": "wGnJ3qvC_uPa",
        "colab_type": "text"
      },
      "source": [
        "# **Boolean Values**\n",
        "\n",
        "In programming you often need to know if an expression is True or False.\n",
        "\n",
        "You can evaluate any expression in Python, and get one of two answers, True or False.\n",
        "\n",
        "When you compare two values, the expression is evaluated and Python returns the Boolean answer:"
      ]
    },
    {
      "cell_type": "code",
      "metadata": {
        "id": "1xcz6TQF8z0y",
        "colab_type": "code",
        "colab": {
          "base_uri": "https://localhost:8080/",
          "height": 69
        },
        "outputId": "b9ad27ef-93f5-4355-9ce8-e274625b94a2"
      },
      "source": [
        "print(10 > 9)\n",
        "print(10 == 9)\n",
        "print(10 < 9)"
      ],
      "execution_count": 36,
      "outputs": [
        {
          "output_type": "stream",
          "text": [
            "True\n",
            "False\n",
            "False\n"
          ],
          "name": "stdout"
        }
      ]
    },
    {
      "cell_type": "markdown",
      "metadata": {
        "id": "HgeX0Wwo_4sw",
        "colab_type": "text"
      },
      "source": [
        "When you run a condition in an if statement, Python returns True or False:"
      ]
    },
    {
      "cell_type": "code",
      "metadata": {
        "id": "l3iXGg1q_0XG",
        "colab_type": "code",
        "colab": {
          "base_uri": "https://localhost:8080/",
          "height": 34
        },
        "outputId": "906ad5d7-a542-4e77-ad68-98d784f14fa6"
      },
      "source": [
        "a = 200\n",
        "b = 33\n",
        "\n",
        "if b > a:\n",
        "  print(\"b is greater than a\")\n",
        "else:\n",
        "  print(\"b is not greater than a\") "
      ],
      "execution_count": 37,
      "outputs": [
        {
          "output_type": "stream",
          "text": [
            "b is not greater than a\n"
          ],
          "name": "stdout"
        }
      ]
    },
    {
      "cell_type": "markdown",
      "metadata": {
        "id": "bDeXvHdKALxx",
        "colab_type": "text"
      },
      "source": [
        "# **Evaluate Values and Variables**\n",
        "\n",
        "The `bool()` function allows you to evaluate any value, and give you `True `or `False` in return"
      ]
    },
    {
      "cell_type": "code",
      "metadata": {
        "id": "mqed8WVvAD9k",
        "colab_type": "code",
        "colab": {
          "base_uri": "https://localhost:8080/",
          "height": 52
        },
        "outputId": "0af7bc83-4413-46b4-b54b-49378dc48c59"
      },
      "source": [
        "print(bool(\"Hello\"))\n",
        "print(bool(15))"
      ],
      "execution_count": 38,
      "outputs": [
        {
          "output_type": "stream",
          "text": [
            "True\n",
            "True\n"
          ],
          "name": "stdout"
        }
      ]
    },
    {
      "cell_type": "code",
      "metadata": {
        "id": "BmszmdiqAgK5",
        "colab_type": "code",
        "colab": {
          "base_uri": "https://localhost:8080/",
          "height": 52
        },
        "outputId": "1f7f0886-01fb-4961-c303-6995314fcdaa"
      },
      "source": [
        "x = \"Hello\"\n",
        "y = 15\n",
        "\n",
        "print(bool(x))\n",
        "print(bool(y))"
      ],
      "execution_count": 39,
      "outputs": [
        {
          "output_type": "stream",
          "text": [
            "True\n",
            "True\n"
          ],
          "name": "stdout"
        }
      ]
    },
    {
      "cell_type": "markdown",
      "metadata": {
        "id": "6Ma7bD4KBWeJ",
        "colab_type": "text"
      },
      "source": [
        "# **Most Values are True**\n",
        "\n",
        "Almost any value is evaluated to True if it has some sort of content.\n",
        "\n",
        "Any string is True, except empty strings.\n",
        "\n",
        "Any number is True, except 0.\n",
        "\n",
        "Any list, tuple, set, and dictionary are True, except empty ones."
      ]
    },
    {
      "cell_type": "code",
      "metadata": {
        "id": "LDtEjBhvBJFm",
        "colab_type": "code",
        "colab": {
          "base_uri": "https://localhost:8080/",
          "height": 34
        },
        "outputId": "2d6b4f11-61b2-4616-e547-c89b8b18fde6"
      },
      "source": [
        "bool(\"abc\")\n",
        "bool(123)\n",
        "bool([\"apple\", \"cherry\", \"banana\"])"
      ],
      "execution_count": 40,
      "outputs": [
        {
          "output_type": "execute_result",
          "data": {
            "text/plain": [
              "True"
            ]
          },
          "metadata": {
            "tags": []
          },
          "execution_count": 40
        }
      ]
    },
    {
      "cell_type": "markdown",
      "metadata": {
        "id": "c8IFA20OBfdQ",
        "colab_type": "text"
      },
      "source": [
        "## **Some Values are False**\n",
        "\n",
        "In fact, there are not many values that evaluates to `False`, except empty values, such as `(), [], {}, \"\"`, the number 0, and the value `None`. And of course the value `False` evaluates to `False`."
      ]
    },
    {
      "cell_type": "code",
      "metadata": {
        "id": "647_3ji4BdFW",
        "colab_type": "code",
        "colab": {
          "base_uri": "https://localhost:8080/",
          "height": 34
        },
        "outputId": "dc2aada6-9f31-4591-ec40-75807f477d8b"
      },
      "source": [
        "bool(False)\n",
        "bool(None)\n",
        "bool(0)\n",
        "bool(\"\")\n",
        "bool(())\n",
        "bool([])\n",
        "bool({}) "
      ],
      "execution_count": 41,
      "outputs": [
        {
          "output_type": "execute_result",
          "data": {
            "text/plain": [
              "False"
            ]
          },
          "metadata": {
            "tags": []
          },
          "execution_count": 41
        }
      ]
    },
    {
      "cell_type": "markdown",
      "metadata": {
        "id": "UYiAh4bDBxxA",
        "colab_type": "text"
      },
      "source": [
        "One more value, or object in this case, evaluates to `False`, and that is if you have an objects that are made from a class with a `__len__` function that returns `0` or `False`: "
      ]
    },
    {
      "cell_type": "code",
      "metadata": {
        "id": "sbF_tecrBu69",
        "colab_type": "code",
        "colab": {
          "base_uri": "https://localhost:8080/",
          "height": 34
        },
        "outputId": "2353b300-a8d7-4053-cf02-6dbae672c945"
      },
      "source": [
        "class myclass():\n",
        "  def __len__(self):\n",
        "    return 0\n",
        "\n",
        "myobj = myclass()\n",
        "print(bool(myobj)) "
      ],
      "execution_count": 42,
      "outputs": [
        {
          "output_type": "stream",
          "text": [
            "False\n"
          ],
          "name": "stdout"
        }
      ]
    },
    {
      "cell_type": "markdown",
      "metadata": {
        "id": "NUfo2EErCKZ9",
        "colab_type": "text"
      },
      "source": [
        "## **Functions can Return a Boolean**\n",
        "\n",
        "Python also has many built-in functions that returns a boolean value, like the `isinstance()` function, which can be used to determine if an object is of a certain data type:"
      ]
    },
    {
      "cell_type": "code",
      "metadata": {
        "id": "tJ5JW3CuB8Ii",
        "colab_type": "code",
        "colab": {
          "base_uri": "https://localhost:8080/",
          "height": 34
        },
        "outputId": "cb8d4512-b86c-43ac-a1f9-e9706f5b9ce7"
      },
      "source": [
        "x = 200\n",
        "print(isinstance(x, int)) "
      ],
      "execution_count": 43,
      "outputs": [
        {
          "output_type": "stream",
          "text": [
            "True\n"
          ],
          "name": "stdout"
        }
      ]
    },
    {
      "cell_type": "markdown",
      "metadata": {
        "id": "I6VTypC2CeIg",
        "colab_type": "text"
      },
      "source": [
        "## **Python Operators**\n",
        "\n",
        "Operators are used to perform operations on variables and values.\n",
        "\n",
        "Python divides the operators in the following groups:\n",
        "\n",
        "  - Arithmetic operators\n",
        "  - Assignment operators\n",
        "  - Comparison operators\n",
        "  - Logical operators\n",
        "  - Identity operators\n",
        "  - Membership operators\n",
        "  - Bitwise operators\n"
      ]
    },
    {
      "cell_type": "markdown",
      "metadata": {
        "id": "O-BL_oj4CsqH",
        "colab_type": "text"
      },
      "source": [
        "## **Python Arithmetic Operators**\n",
        "\n",
        "Arithmetic operators are used with numeric values to perform common mathematical operations:"
      ]
    },
    {
      "cell_type": "code",
      "metadata": {
        "id": "iHzKFblqDHSN",
        "colab_type": "code",
        "colab": {}
      },
      "source": [
        "Operator \tName \t                Example \t \n",
        "+ \t      Addition \t            x + y \t\n",
        "- \t      Subtraction \t        x - y \t\n",
        "* \t      Multiplication \t      x * y \t\n",
        "/ \t      Division \t            x / y \t\n",
        "% \t      Modulus \t            x % y \t\n",
        "** \t      Exponentiation \t      x ** y \t\n",
        "// \t      Floor division \t      x // y"
      ],
      "execution_count": 0,
      "outputs": []
    },
    {
      "cell_type": "code",
      "metadata": {
        "id": "PMjDxrSeDORv",
        "colab_type": "code",
        "colab": {}
      },
      "source": [
        "Operator \tExample \tSame As \tTry it\n",
        "= \t      x = 5 \t  x = 5 \t\n",
        "+= \t      x += 3 \t  x = x + 3 \t\n",
        "-= \t      x -= 3 \t  x = x - 3 \t\n",
        "*= \t      x *= 3 \t  x = x * 3 \t\n",
        "/= \t      x /= 3 \t  x = x / 3 \t\n",
        "%= \t      x %= 3 \t  x = x % 3 \t\n",
        "//= \t    x //= 3 \tx = x // 3 \t\n",
        "**= \t    x **= 3 \tx = x ** 3 \t\n",
        "&= \t      x &= 3  \tx = x & 3 \t\n",
        "|= \t      x |= 3 \t  x = x | 3 \t\n",
        "^= \t      x ^= 3  \tx = x ^ 3 \t\n",
        ">>= \t    x >>= 3 \tx = x >> 3 \t\n",
        "<<= \t    x <<= 3 \tx = x << 3"
      ],
      "execution_count": 0,
      "outputs": []
    },
    {
      "cell_type": "markdown",
      "metadata": {
        "id": "Rle2vUMeDaRr",
        "colab_type": "text"
      },
      "source": [
        "## **Python Comparison Operators**\n",
        "\n",
        "Comparison operators are used to compare two values:"
      ]
    },
    {
      "cell_type": "code",
      "metadata": {
        "id": "F2YNpIWgDfHb",
        "colab_type": "code",
        "colab": {}
      },
      "source": [
        "Operator \tName \t                        Example \t\n",
        "== \t      Equal \t                      x == y \t\n",
        "!= \t      Not equal \t                  x != y \t\n",
        "> \t      Greater than        \t        x > y \t\n",
        "< \t      Less than \t                  x < y \t\n",
        ">= \t      Greater than or equal to \t    x >= y \t\n",
        "<= \t      Less than or equal to         x <= y"
      ],
      "execution_count": 0,
      "outputs": []
    },
    {
      "cell_type": "markdown",
      "metadata": {
        "id": "qoyy9HirDvzN",
        "colab_type": "text"
      },
      "source": [
        "## **Python Logical Operators**\n",
        "\n",
        "Logical operators are used to combine conditional statements:"
      ]
    },
    {
      "cell_type": "code",
      "metadata": {
        "id": "iy1_UVC0D1T4",
        "colab_type": "code",
        "colab": {}
      },
      "source": [
        "Operator \tDescription \t                                              Example \t\n",
        "and  \t    Returns True if both statements are true \t                  x < 5 and  x < 10 \t\n",
        "or \t      Returns True if one of the statements is true \t            x < 5 or x < 4 \t\n",
        "not \t    Reverse the result, returns False if the result is true     not(x < 5 and x < 10)"
      ],
      "execution_count": 0,
      "outputs": []
    },
    {
      "cell_type": "markdown",
      "metadata": {
        "id": "4Pyk3bgTEET_",
        "colab_type": "text"
      },
      "source": [
        "# **Python Identity Operators**\n",
        "\n",
        "Identity operators are used to compare the objects, not if they are equal, but if they are actually the same object, with the same memory location:"
      ]
    },
    {
      "cell_type": "code",
      "metadata": {
        "id": "52UA2q1gEJkG",
        "colab_type": "code",
        "colab": {}
      },
      "source": [
        "Operator \t    Description \t                                            Example \n",
        "is  \t        Returns true if both variables are the same object \t      x is y \t\n",
        "is not \t      Returns true if both variables are not the same object \t  x is not y"
      ],
      "execution_count": 0,
      "outputs": []
    },
    {
      "cell_type": "markdown",
      "metadata": {
        "id": "93moryU8EWxi",
        "colab_type": "text"
      },
      "source": [
        "# **Python Membership Operators**\n",
        "\n",
        "Membership operators are used to test if a sequence is presented in an object:"
      ]
    },
    {
      "cell_type": "code",
      "metadata": {
        "id": "vt2PrXl4ESpZ",
        "colab_type": "code",
        "colab": {}
      },
      "source": [
        "Operator \t    Description \t                                                                      Example \t\n",
        "in  \t        Returns True if a sequence with the specified value is present in the object \t      x in y \t\n",
        "not in \t      Returns True if a sequence with the specified value is not present in the object \t  x not in y"
      ],
      "execution_count": 0,
      "outputs": []
    },
    {
      "cell_type": "markdown",
      "metadata": {
        "id": "fZq74C10E0se",
        "colab_type": "text"
      },
      "source": [
        "# **Python Bitwise Operators**\n",
        "\n",
        "Bitwise operators are used to compare (binary) numbers:"
      ]
    },
    {
      "cell_type": "code",
      "metadata": {
        "id": "XhdXflbLE46D",
        "colab_type": "code",
        "colab": {}
      },
      "source": [
        "Operator \tName \t                          Description\n",
        "&  \t      AND \t                          Sets each bit to 1 if both bits are 1\n",
        "| \t      OR \t                            Sets each bit to 1 if one of two bits is 1\n",
        " ^ \t      XOR \t                          Sets each bit to 1 if only one of two bits is 1\n",
        "~  \t      NOT \t                          Inverts all the bits\n",
        "<< \t      Zero fill left shift \t          Shift left by pushing zeros in from the right and let the leftmost bits fall off\n",
        ">> \t      Signed right shift \t            Shift right by pushing copies of the leftmost bit in from the left, and let the rightmost bits fall off"
      ],
      "execution_count": 0,
      "outputs": []
    },
    {
      "cell_type": "markdown",
      "metadata": {
        "id": "xfNFSlZzFzsj",
        "colab_type": "text"
      },
      "source": [
        "## **Python Collections (Arrays)**\n",
        "\n",
        "There are four collection data types in the Python programming language:\n",
        "\n",
        "- List is a collection which is ordered and changeable. Allows duplicate members.\n",
        "- Tuple is a collection which is ordered and unchangeable. Allows duplicate members.\n",
        "- Set is a collection which is unordered and unindexed. No duplicate members.\n",
        "- Dictionary is a collection which is unordered, changeable and indexed. No duplicate members.\n",
        "\n",
        "When choosing a collection type, it is useful to understand the properties of that type. Choosing the right type for a particular data set could mean retention of meaning, and, it could mean an increase in efficiency or security.\n",
        "\n",
        "# **List**\n",
        "\n",
        "A list is a collection which is ordered and changeable. In Python lists are written with square brackets."
      ]
    },
    {
      "cell_type": "code",
      "metadata": {
        "id": "Y1Mmx8n6F6Xd",
        "colab_type": "code",
        "colab": {
          "base_uri": "https://localhost:8080/",
          "height": 34
        },
        "outputId": "b61c3075-b3ef-4e26-f00e-381ac3b84034"
      },
      "source": [
        "thislist = [\"apple\", \"banana\", \"cherry\"]\n",
        "print(thislist)"
      ],
      "execution_count": 45,
      "outputs": [
        {
          "output_type": "stream",
          "text": [
            "['apple', 'banana', 'cherry']\n"
          ],
          "name": "stdout"
        }
      ]
    },
    {
      "cell_type": "markdown",
      "metadata": {
        "id": "fuMCTh3sGEPG",
        "colab_type": "text"
      },
      "source": [
        "## **Access Items**\n",
        "\n",
        "You access the list items by referring to the index number:"
      ]
    },
    {
      "cell_type": "code",
      "metadata": {
        "id": "etww4q3BGBjS",
        "colab_type": "code",
        "colab": {
          "base_uri": "https://localhost:8080/",
          "height": 34
        },
        "outputId": "f2c56540-7c63-45d7-c278-a658bec304da"
      },
      "source": [
        "thislist = [\"apple\", \"banana\", \"cherry\"]\n",
        "print(thislist[1])"
      ],
      "execution_count": 46,
      "outputs": [
        {
          "output_type": "stream",
          "text": [
            "banana\n"
          ],
          "name": "stdout"
        }
      ]
    },
    {
      "cell_type": "markdown",
      "metadata": {
        "id": "Jjv0l9oTGJv8",
        "colab_type": "text"
      },
      "source": [
        "## **Negative Indexing**\n",
        "\n",
        "Negative indexing means beginning from the end, -1 refers to the last item, -2 refers to the second last item etc."
      ]
    },
    {
      "cell_type": "code",
      "metadata": {
        "id": "onj6AKODGH5V",
        "colab_type": "code",
        "colab": {
          "base_uri": "https://localhost:8080/",
          "height": 34
        },
        "outputId": "7c28970f-97d9-4a69-89d7-98756a43f16f"
      },
      "source": [
        " thislist = [\"apple\", \"banana\", \"cherry\"]\n",
        "print(thislist[-1])"
      ],
      "execution_count": 47,
      "outputs": [
        {
          "output_type": "stream",
          "text": [
            "cherry\n"
          ],
          "name": "stdout"
        }
      ]
    },
    {
      "cell_type": "markdown",
      "metadata": {
        "id": "hHxtEfVAGRxF",
        "colab_type": "text"
      },
      "source": [
        "# **Range of Indexes**\n",
        "\n",
        "You can specify a range of indexes by specifying where to start and where to end the range.\n",
        "\n",
        "When specifying a range, the return value will be a new list with the specified items."
      ]
    },
    {
      "cell_type": "code",
      "metadata": {
        "id": "qLTPiua1GU68",
        "colab_type": "code",
        "colab": {
          "base_uri": "https://localhost:8080/",
          "height": 34
        },
        "outputId": "186d88c5-7d6f-481f-f366-cf6db0d2384c"
      },
      "source": [
        "thislist = [\"apple\", \"banana\", \"cherry\", \"orange\", \"kiwi\", \"melon\", \"mango\"]\n",
        "print(thislist[2:5])"
      ],
      "execution_count": 48,
      "outputs": [
        {
          "output_type": "stream",
          "text": [
            "['cherry', 'orange', 'kiwi']\n"
          ],
          "name": "stdout"
        }
      ]
    },
    {
      "cell_type": "code",
      "metadata": {
        "id": "iaVJcl0UGW7Y",
        "colab_type": "code",
        "colab": {
          "base_uri": "https://localhost:8080/",
          "height": 34
        },
        "outputId": "aa50c420-bf76-4af8-9b30-00d9f431dc38"
      },
      "source": [
        "thislist = [\"apple\", \"banana\", \"cherry\", \"orange\", \"kiwi\", \"melon\", \"mango\"]\n",
        "print(thislist[:4])"
      ],
      "execution_count": 49,
      "outputs": [
        {
          "output_type": "stream",
          "text": [
            "['apple', 'banana', 'cherry', 'orange']\n"
          ],
          "name": "stdout"
        }
      ]
    },
    {
      "cell_type": "code",
      "metadata": {
        "id": "xj2fJsOgGYx6",
        "colab_type": "code",
        "colab": {
          "base_uri": "https://localhost:8080/",
          "height": 34
        },
        "outputId": "50dca118-3156-4863-cf75-325c3d04ce66"
      },
      "source": [
        "thislist = [\"apple\", \"banana\", \"cherry\", \"orange\", \"kiwi\", \"melon\", \"mango\"]\n",
        "print(thislist[2:])"
      ],
      "execution_count": 50,
      "outputs": [
        {
          "output_type": "stream",
          "text": [
            "['cherry', 'orange', 'kiwi', 'melon', 'mango']\n"
          ],
          "name": "stdout"
        }
      ]
    },
    {
      "cell_type": "markdown",
      "metadata": {
        "id": "rCqXmrSBGcy8",
        "colab_type": "text"
      },
      "source": [
        "## **Range of Negative Indexes**\n",
        "\n",
        "Specify negative indexes if you want to start the search from the end of the list:"
      ]
    },
    {
      "cell_type": "code",
      "metadata": {
        "id": "t-moj7KDGagu",
        "colab_type": "code",
        "colab": {
          "base_uri": "https://localhost:8080/",
          "height": 34
        },
        "outputId": "74970b4a-87a8-49b2-b1f1-10842616211a"
      },
      "source": [
        "thislist = [\"apple\", \"banana\", \"cherry\", \"orange\", \"kiwi\", \"melon\", \"mango\"]\n",
        "print(thislist[-4:-1])"
      ],
      "execution_count": 51,
      "outputs": [
        {
          "output_type": "stream",
          "text": [
            "['orange', 'kiwi', 'melon']\n"
          ],
          "name": "stdout"
        }
      ]
    },
    {
      "cell_type": "markdown",
      "metadata": {
        "id": "A9dCK48cGkgE",
        "colab_type": "text"
      },
      "source": [
        "\n",
        "## **Change Item Value**\n",
        "\n",
        "To change the value of a specific item, refer to the index number:"
      ]
    },
    {
      "cell_type": "code",
      "metadata": {
        "id": "YIDN7OzEGgBz",
        "colab_type": "code",
        "colab": {
          "base_uri": "https://localhost:8080/",
          "height": 34
        },
        "outputId": "4611c114-22f1-48cb-bd74-9e50307698b7"
      },
      "source": [
        "thislist = [\"apple\", \"banana\", \"cherry\"]\n",
        "thislist[1] = \"blackcurrant\"\n",
        "print(thislist)"
      ],
      "execution_count": 52,
      "outputs": [
        {
          "output_type": "stream",
          "text": [
            "['apple', 'blackcurrant', 'cherry']\n"
          ],
          "name": "stdout"
        }
      ]
    },
    {
      "cell_type": "markdown",
      "metadata": {
        "id": "X-Asj0aGGwtV",
        "colab_type": "text"
      },
      "source": [
        "## Loop Through a List\n",
        "\n",
        "You can loop through the list items by using a for loop:"
      ]
    },
    {
      "cell_type": "code",
      "metadata": {
        "id": "Ws4oWtAaGqVz",
        "colab_type": "code",
        "colab": {
          "base_uri": "https://localhost:8080/",
          "height": 69
        },
        "outputId": "d12fbbc5-915c-4c7c-9b34-b9052ba4bc1c"
      },
      "source": [
        "thislist = [\"apple\", \"banana\", \"cherry\"]\n",
        "for x in thislist:\n",
        "  print(x) "
      ],
      "execution_count": 53,
      "outputs": [
        {
          "output_type": "stream",
          "text": [
            "apple\n",
            "banana\n",
            "cherry\n"
          ],
          "name": "stdout"
        }
      ]
    },
    {
      "cell_type": "markdown",
      "metadata": {
        "id": "gdBwpM1bG29g",
        "colab_type": "text"
      },
      "source": [
        "# **Check if Item Exists**\n",
        "\n",
        "To determine if a specified item is present in a list use the in keyword:"
      ]
    },
    {
      "cell_type": "code",
      "metadata": {
        "id": "CmrvGJKmG0rb",
        "colab_type": "code",
        "colab": {
          "base_uri": "https://localhost:8080/",
          "height": 34
        },
        "outputId": "121d281f-9d47-4620-d588-db78d9050fa5"
      },
      "source": [
        "thislist = [\"apple\", \"banana\", \"cherry\"]\n",
        "if \"apple\" in thislist:\n",
        "  print(\"Yes, 'apple' is in the fruits list\") "
      ],
      "execution_count": 54,
      "outputs": [
        {
          "output_type": "stream",
          "text": [
            "Yes, 'apple' is in the fruits list\n"
          ],
          "name": "stdout"
        }
      ]
    },
    {
      "cell_type": "markdown",
      "metadata": {
        "id": "zrUncRf7G89a",
        "colab_type": "text"
      },
      "source": [
        "### **List Length**\n",
        "\n",
        "To determine how many items a list has, use the len() function:"
      ]
    },
    {
      "cell_type": "code",
      "metadata": {
        "id": "k-SkQ72gHEDR",
        "colab_type": "code",
        "colab": {
          "base_uri": "https://localhost:8080/",
          "height": 34
        },
        "outputId": "22356ade-2e00-4376-a936-3f8ef7be9e54"
      },
      "source": [
        "thislist = [\"apple\", \"banana\", \"cherry\"]\n",
        "print(len(thislist))"
      ],
      "execution_count": 55,
      "outputs": [
        {
          "output_type": "stream",
          "text": [
            "3\n"
          ],
          "name": "stdout"
        }
      ]
    },
    {
      "cell_type": "markdown",
      "metadata": {
        "id": "pPFudyEqHI_c",
        "colab_type": "text"
      },
      "source": [
        "## **Add Items**\n",
        "\n",
        "To add an item to the end of the list, use the append() method:"
      ]
    },
    {
      "cell_type": "code",
      "metadata": {
        "id": "5FWH7FlHHGoJ",
        "colab_type": "code",
        "colab": {
          "base_uri": "https://localhost:8080/",
          "height": 34
        },
        "outputId": "b74f295d-f22b-48f2-96b4-f1738e5b0fcc"
      },
      "source": [
        "thislist = [\"apple\", \"banana\", \"cherry\"]\n",
        "thislist.append(\"orange\")\n",
        "print(thislist)"
      ],
      "execution_count": 56,
      "outputs": [
        {
          "output_type": "stream",
          "text": [
            "['apple', 'banana', 'cherry', 'orange']\n"
          ],
          "name": "stdout"
        }
      ]
    },
    {
      "cell_type": "markdown",
      "metadata": {
        "id": "jVg-jlKdHSDM",
        "colab_type": "text"
      },
      "source": [
        "To add an item at the specified index, use the `insert()` method:"
      ]
    },
    {
      "cell_type": "code",
      "metadata": {
        "id": "RWbEglV5HOro",
        "colab_type": "code",
        "colab": {
          "base_uri": "https://localhost:8080/",
          "height": 34
        },
        "outputId": "2e384b6a-758c-4525-89e2-c80ac8ed788d"
      },
      "source": [
        "thislist = [\"apple\", \"banana\", \"cherry\"]\n",
        "thislist.insert(1, \"orange\")\n",
        "print(thislist)"
      ],
      "execution_count": 57,
      "outputs": [
        {
          "output_type": "stream",
          "text": [
            "['apple', 'orange', 'banana', 'cherry']\n"
          ],
          "name": "stdout"
        }
      ]
    },
    {
      "cell_type": "markdown",
      "metadata": {
        "id": "D9GSK_0QHcRH",
        "colab_type": "text"
      },
      "source": [
        "# **Remove Item**\n",
        "\n",
        "There are several methods to remove items from a list:"
      ]
    },
    {
      "cell_type": "code",
      "metadata": {
        "id": "IVWa7dhoHZxW",
        "colab_type": "code",
        "colab": {
          "base_uri": "https://localhost:8080/",
          "height": 34
        },
        "outputId": "5758086a-24c8-4443-b93e-03b8e63d0ac3"
      },
      "source": [
        "thislist = [\"apple\", \"banana\", \"cherry\"]\n",
        "thislist.remove(\"banana\")\n",
        "print(thislist)"
      ],
      "execution_count": 58,
      "outputs": [
        {
          "output_type": "stream",
          "text": [
            "['apple', 'cherry']\n"
          ],
          "name": "stdout"
        }
      ]
    },
    {
      "cell_type": "markdown",
      "metadata": {
        "id": "G_-D4aZlHjJI",
        "colab_type": "text"
      },
      "source": [
        "The `pop() `method removes the specified index, (or the last item if index is not specified):"
      ]
    },
    {
      "cell_type": "code",
      "metadata": {
        "id": "14Vr_-SfHg6q",
        "colab_type": "code",
        "colab": {
          "base_uri": "https://localhost:8080/",
          "height": 34
        },
        "outputId": "e994fff3-99f2-4f21-b6f0-228ace76b0ca"
      },
      "source": [
        "thislist = [\"apple\", \"banana\", \"cherry\"]\n",
        "thislist.pop()\n",
        "print(thislist)"
      ],
      "execution_count": 59,
      "outputs": [
        {
          "output_type": "stream",
          "text": [
            "['apple', 'banana']\n"
          ],
          "name": "stdout"
        }
      ]
    },
    {
      "cell_type": "markdown",
      "metadata": {
        "id": "CTlFzkIkHo30",
        "colab_type": "text"
      },
      "source": [
        "The `del` keyword removes the specified index:"
      ]
    },
    {
      "cell_type": "code",
      "metadata": {
        "id": "JhWyspdIHmsp",
        "colab_type": "code",
        "colab": {
          "base_uri": "https://localhost:8080/",
          "height": 34
        },
        "outputId": "9817d58a-3c94-4dc3-9aa6-3f747ceca3e7"
      },
      "source": [
        "thislist = [\"apple\", \"banana\", \"cherry\"]\n",
        "del thislist[0]\n",
        "print(thislist)"
      ],
      "execution_count": 60,
      "outputs": [
        {
          "output_type": "stream",
          "text": [
            "['banana', 'cherry']\n"
          ],
          "name": "stdout"
        }
      ]
    },
    {
      "cell_type": "markdown",
      "metadata": {
        "id": "F7dF1v5cHxfc",
        "colab_type": "text"
      },
      "source": [
        "The `del` keyword can also delete the list completely:"
      ]
    },
    {
      "cell_type": "code",
      "metadata": {
        "id": "i4fBIdL2Ht1f",
        "colab_type": "code",
        "colab": {}
      },
      "source": [
        "thislist = [\"apple\", \"banana\", \"cherry\"]\n",
        "del thislist "
      ],
      "execution_count": 0,
      "outputs": []
    },
    {
      "cell_type": "markdown",
      "metadata": {
        "id": "esgbQnRjH3_t",
        "colab_type": "text"
      },
      "source": [
        "The `clear()` method empties the list:"
      ]
    },
    {
      "cell_type": "code",
      "metadata": {
        "id": "6q1-9dM8H1R9",
        "colab_type": "code",
        "colab": {
          "base_uri": "https://localhost:8080/",
          "height": 34
        },
        "outputId": "26619c2b-cf36-4a18-a9aa-0ab2ce431037"
      },
      "source": [
        "thislist = [\"apple\", \"banana\", \"cherry\"]\n",
        "thislist.clear()\n",
        "print(thislist)"
      ],
      "execution_count": 62,
      "outputs": [
        {
          "output_type": "stream",
          "text": [
            "[]\n"
          ],
          "name": "stdout"
        }
      ]
    },
    {
      "cell_type": "markdown",
      "metadata": {
        "id": "jKq1Pc7VH8z6",
        "colab_type": "text"
      },
      "source": [
        "## **Copy a List**\n",
        "\n",
        "You cannot copy a `list` simply by typing `list2 = list1`, because: list2 will only be a reference to list1, and changes made in `list1 `will automatically also be made in `list2`.\n",
        "\n",
        "There are ways to make a copy, one way is to use the built-in List method `copy()`."
      ]
    },
    {
      "cell_type": "code",
      "metadata": {
        "id": "7bYE90IPH6tF",
        "colab_type": "code",
        "colab": {
          "base_uri": "https://localhost:8080/",
          "height": 34
        },
        "outputId": "d46b0ef8-3b09-4a94-c3a1-d403aeecb5fa"
      },
      "source": [
        "thislist = [\"apple\", \"banana\", \"cherry\"]\n",
        "mylist = thislist.copy()\n",
        "print(mylist)"
      ],
      "execution_count": 63,
      "outputs": [
        {
          "output_type": "stream",
          "text": [
            "['apple', 'banana', 'cherry']\n"
          ],
          "name": "stdout"
        }
      ]
    },
    {
      "cell_type": "markdown",
      "metadata": {
        "id": "6LKJlrqlISiZ",
        "colab_type": "text"
      },
      "source": [
        "Another way to make a copy is to use the built-in method `list()`.\n",
        "\n",
        "**Example**\n",
        "\n",
        "Make a copy of a list with the `list()` method:"
      ]
    },
    {
      "cell_type": "code",
      "metadata": {
        "id": "EyqshPQPIPdX",
        "colab_type": "code",
        "colab": {
          "base_uri": "https://localhost:8080/",
          "height": 34
        },
        "outputId": "fc3feac0-a23c-4d83-d591-bccde88dfe83"
      },
      "source": [
        "thislist = [\"apple\", \"banana\", \"cherry\"]\n",
        "mylist = list(thislist)\n",
        "print(mylist)"
      ],
      "execution_count": 64,
      "outputs": [
        {
          "output_type": "stream",
          "text": [
            "['apple', 'banana', 'cherry']\n"
          ],
          "name": "stdout"
        }
      ]
    },
    {
      "cell_type": "markdown",
      "metadata": {
        "id": "3yOK3Qo4Id5V",
        "colab_type": "text"
      },
      "source": [
        "## **Join Two Lists**\n",
        "\n",
        "There are several ways to join, or concatenate, two or more lists in Python.\n",
        "\n",
        "One of the easiest ways are by using the + operator."
      ]
    },
    {
      "cell_type": "code",
      "metadata": {
        "id": "ywEisyaeIbGC",
        "colab_type": "code",
        "colab": {
          "base_uri": "https://localhost:8080/",
          "height": 34
        },
        "outputId": "f2b2a09e-cc57-452a-d1cb-f9737f30f298"
      },
      "source": [
        "list1 = [\"a\", \"b\" , \"c\"]\n",
        "list2 = [1, 2, 3]\n",
        "\n",
        "list3 = list1 + list2\n",
        "print(list3) "
      ],
      "execution_count": 65,
      "outputs": [
        {
          "output_type": "stream",
          "text": [
            "['a', 'b', 'c', 1, 2, 3]\n"
          ],
          "name": "stdout"
        }
      ]
    },
    {
      "cell_type": "markdown",
      "metadata": {
        "id": "vftpPAlmIkuC",
        "colab_type": "text"
      },
      "source": [
        "**Example**\n",
        "\n",
        "Append list2 into list1:"
      ]
    },
    {
      "cell_type": "code",
      "metadata": {
        "id": "npCEE3nEImTr",
        "colab_type": "code",
        "colab": {
          "base_uri": "https://localhost:8080/",
          "height": 34
        },
        "outputId": "a7a8eefe-70d5-42be-9089-2d26cc999593"
      },
      "source": [
        "list1 = [\"a\", \"b\" , \"c\"]\n",
        "list2 = [1, 2, 3]\n",
        "\n",
        "for x in list2:\n",
        "  list1.append(x)\n",
        "\n",
        "print(list1) "
      ],
      "execution_count": 66,
      "outputs": [
        {
          "output_type": "stream",
          "text": [
            "['a', 'b', 'c', 1, 2, 3]\n"
          ],
          "name": "stdout"
        }
      ]
    },
    {
      "cell_type": "markdown",
      "metadata": {
        "id": "V0TiVHglIuD0",
        "colab_type": "text"
      },
      "source": [
        "Or you can use the `extend()` method, which purpose is to add elements from one list to another `list`:\n",
        "\n",
        "**Example**\n",
        "\n",
        "Use the `extend()` method to add `list2` at the end of `list1`:"
      ]
    },
    {
      "cell_type": "code",
      "metadata": {
        "id": "eJ7FLLu-Ip2C",
        "colab_type": "code",
        "colab": {
          "base_uri": "https://localhost:8080/",
          "height": 34
        },
        "outputId": "3e5c4b3a-9c32-430c-9e4b-b6cb09ca6004"
      },
      "source": [
        "list1 = [\"a\", \"b\" , \"c\"]\n",
        "list2 = [1, 2, 3]\n",
        "\n",
        "list1.extend(list2)\n",
        "print(list1) "
      ],
      "execution_count": 67,
      "outputs": [
        {
          "output_type": "stream",
          "text": [
            "['a', 'b', 'c', 1, 2, 3]\n"
          ],
          "name": "stdout"
        }
      ]
    },
    {
      "cell_type": "markdown",
      "metadata": {
        "id": "SJTY0TcLI_sh",
        "colab_type": "text"
      },
      "source": [
        "## **The list() Constructor**\n",
        "\n",
        "It is also possible to use the l`ist()` constructor to make a new list."
      ]
    },
    {
      "cell_type": "markdown",
      "metadata": {
        "id": "RVGdBX9RJIr0",
        "colab_type": "text"
      },
      "source": [
        "**Example**\n",
        "\n",
        "Using the list() constructor to make a List:"
      ]
    },
    {
      "cell_type": "code",
      "metadata": {
        "id": "ajm4sft3JIaa",
        "colab_type": "code",
        "colab": {
          "base_uri": "https://localhost:8080/",
          "height": 34
        },
        "outputId": "4cf46bf2-f704-4fb0-f103-5646c3b58c5f"
      },
      "source": [
        "thislist = list((\"apple\", \"banana\", \"cherry\")) # note the double round-brackets\n",
        "print(thislist)"
      ],
      "execution_count": 68,
      "outputs": [
        {
          "output_type": "stream",
          "text": [
            "['apple', 'banana', 'cherry']\n"
          ],
          "name": "stdout"
        }
      ]
    },
    {
      "cell_type": "markdown",
      "metadata": {
        "id": "i00wZ29bJQBi",
        "colab_type": "text"
      },
      "source": [
        "## **List Methods**\n",
        "\n",
        "Python has a set of built-in methods that you can use on lists."
      ]
    },
    {
      "cell_type": "code",
      "metadata": {
        "id": "7M8EXIqGI5yz",
        "colab_type": "code",
        "colab": {}
      },
      "source": [
        "Method \t    Description\n",
        "append()\t  Adds an element at the end of the list\n",
        "clear()\t    Removes all the elements from the list\n",
        "copy()\t    Returns a copy of the list\n",
        "count()\t    Returns the number of elements with the specified value\n",
        "extend()\t  Add the elements of a list (or any iterable), to the end of the current list\n",
        "index()\t    Returns the index of the first element with the specified value\n",
        "insert()\t  Adds an element at the specified position\n",
        "pop()\t      Removes the element at the specified position\n",
        "remove()\t  Removes the item with the specified value\n",
        "reverse()\t  Reverses the order of the list\n",
        "sort()\t    Sorts the list"
      ],
      "execution_count": 0,
      "outputs": []
    },
    {
      "cell_type": "markdown",
      "metadata": {
        "id": "-GC8TXfUJb95",
        "colab_type": "text"
      },
      "source": [
        "## **Tuple**\n",
        "\n",
        "A tuple is a collection which is ordered and unchangeable. In Python tuples are written with round brackets."
      ]
    },
    {
      "cell_type": "code",
      "metadata": {
        "id": "WydOis8UJbWz",
        "colab_type": "code",
        "colab": {
          "base_uri": "https://localhost:8080/",
          "height": 34
        },
        "outputId": "cbb847d8-08ff-4832-ac96-db7493e55170"
      },
      "source": [
        "thistuple = (\"apple\", \"banana\", \"cherry\")\n",
        "print(thistuple)"
      ],
      "execution_count": 69,
      "outputs": [
        {
          "output_type": "stream",
          "text": [
            "('apple', 'banana', 'cherry')\n"
          ],
          "name": "stdout"
        }
      ]
    },
    {
      "cell_type": "markdown",
      "metadata": {
        "id": "OWUb9k29KaTc",
        "colab_type": "text"
      },
      "source": [
        "## **Access Tuple Items**\n",
        "\n",
        "You can access tuple items by referring to the index number, inside square brackets:"
      ]
    },
    {
      "cell_type": "code",
      "metadata": {
        "id": "pLe-N0GQKXbr",
        "colab_type": "code",
        "colab": {
          "base_uri": "https://localhost:8080/",
          "height": 34
        },
        "outputId": "3be93e5d-3d54-4c71-f589-e3ba77d493d5"
      },
      "source": [
        "thistuple = (\"apple\", \"banana\", \"cherry\")\n",
        "print(thistuple[1])"
      ],
      "execution_count": 70,
      "outputs": [
        {
          "output_type": "stream",
          "text": [
            "banana\n"
          ],
          "name": "stdout"
        }
      ]
    },
    {
      "cell_type": "markdown",
      "metadata": {
        "id": "irchBxNzKpeF",
        "colab_type": "text"
      },
      "source": [
        "## **Negative Indexing**\n",
        "\n",
        "Negative indexing means beginning from the end, -1 refers to the last item, -2 refers to the second last item etc."
      ]
    },
    {
      "cell_type": "code",
      "metadata": {
        "id": "2v-fudQ4Kmqv",
        "colab_type": "code",
        "colab": {
          "base_uri": "https://localhost:8080/",
          "height": 34
        },
        "outputId": "d4f3eb23-b40f-4642-fe04-ea51ff91de33"
      },
      "source": [
        "thistuple = (\"apple\", \"banana\", \"cherry\")\n",
        "print(thistuple[-1])"
      ],
      "execution_count": 71,
      "outputs": [
        {
          "output_type": "stream",
          "text": [
            "cherry\n"
          ],
          "name": "stdout"
        }
      ]
    },
    {
      "cell_type": "markdown",
      "metadata": {
        "id": "nJv-7pq0K0b5",
        "colab_type": "text"
      },
      "source": [
        "## **Range of Indexes**\n",
        "\n",
        "You can specify a range of indexes by specifying where to start and where to end the range.\n",
        "\n",
        "When specifying a range, the return value will be a new tuple with the specified items."
      ]
    },
    {
      "cell_type": "code",
      "metadata": {
        "id": "f_UH64bhKyBv",
        "colab_type": "code",
        "colab": {
          "base_uri": "https://localhost:8080/",
          "height": 34
        },
        "outputId": "e6f5cc3e-903d-46ee-c451-9b98d31f9af0"
      },
      "source": [
        "thistuple = (\"apple\", \"banana\", \"cherry\", \"orange\", \"kiwi\", \"melon\", \"mango\")\n",
        "print(thistuple[2:5])"
      ],
      "execution_count": 73,
      "outputs": [
        {
          "output_type": "stream",
          "text": [
            "('cherry', 'orange', 'kiwi')\n"
          ],
          "name": "stdout"
        }
      ]
    },
    {
      "cell_type": "markdown",
      "metadata": {
        "id": "QFZjCXdWK9fT",
        "colab_type": "text"
      },
      "source": [
        "## **Range of Negative Indexes**\n",
        "\n",
        "Specify negative indexes if you want to start the search from the end of the tuple:"
      ]
    },
    {
      "cell_type": "code",
      "metadata": {
        "id": "q-rOgUFnK4jz",
        "colab_type": "code",
        "colab": {
          "base_uri": "https://localhost:8080/",
          "height": 34
        },
        "outputId": "e41cda7a-c2b9-4e96-b78a-2f4806b9d133"
      },
      "source": [
        " thistuple = (\"apple\", \"banana\", \"cherry\", \"orange\", \"kiwi\", \"melon\", \"mango\")\n",
        "print(thistuple[-4:-1])"
      ],
      "execution_count": 74,
      "outputs": [
        {
          "output_type": "stream",
          "text": [
            "('orange', 'kiwi', 'melon')\n"
          ],
          "name": "stdout"
        }
      ]
    },
    {
      "cell_type": "markdown",
      "metadata": {
        "id": "rj_4bYZDLCps",
        "colab_type": "text"
      },
      "source": [
        "## **Change Tuple Values**\n",
        "\n",
        "Once a tuple is created, you cannot change its values. Tuples are unchangeable, or immutable as it also is called.\n",
        "\n",
        "But there is a workaround. You can convert the tuple into a list, change the list, and convert the list back into a tuple."
      ]
    },
    {
      "cell_type": "code",
      "metadata": {
        "id": "3_nC3tWiLAjd",
        "colab_type": "code",
        "colab": {
          "base_uri": "https://localhost:8080/",
          "height": 34
        },
        "outputId": "3f6573f1-8de8-4d47-ad1c-c187ab3d8aaa"
      },
      "source": [
        " x = (\"apple\", \"banana\", \"cherry\")\n",
        "y = list(x)\n",
        "y[1] = \"kiwi\"\n",
        "x = tuple(y)\n",
        "\n",
        "print(x) "
      ],
      "execution_count": 75,
      "outputs": [
        {
          "output_type": "stream",
          "text": [
            "('apple', 'kiwi', 'cherry')\n"
          ],
          "name": "stdout"
        }
      ]
    },
    {
      "cell_type": "markdown",
      "metadata": {
        "id": "zzgnVSkhLOBm",
        "colab_type": "text"
      },
      "source": [
        "## **Loop Through a Tuple**\n",
        "\n",
        "You can loop through the tuple items by using a `for` loop."
      ]
    },
    {
      "cell_type": "code",
      "metadata": {
        "id": "f6VmcrLqLMFQ",
        "colab_type": "code",
        "colab": {
          "base_uri": "https://localhost:8080/",
          "height": 69
        },
        "outputId": "670a97df-d43a-44d7-dbee-cc766d7c2b1b"
      },
      "source": [
        "thistuple = (\"apple\", \"banana\", \"cherry\")\n",
        "for x in thistuple:\n",
        "  print(x)"
      ],
      "execution_count": 76,
      "outputs": [
        {
          "output_type": "stream",
          "text": [
            "apple\n",
            "banana\n",
            "cherry\n"
          ],
          "name": "stdout"
        }
      ]
    },
    {
      "cell_type": "markdown",
      "metadata": {
        "id": "blkIKcNOLXwd",
        "colab_type": "text"
      },
      "source": [
        "## **Check if Item Exists**\n",
        "\n",
        "To determine if a specified item is present in a tuple use the in keyword:"
      ]
    },
    {
      "cell_type": "code",
      "metadata": {
        "id": "jC6uj0rpLSgd",
        "colab_type": "code",
        "colab": {
          "base_uri": "https://localhost:8080/",
          "height": 34
        },
        "outputId": "a8ab31cc-5166-425f-851d-fc0bf641bf17"
      },
      "source": [
        " thistuple = (\"apple\", \"banana\", \"cherry\")\n",
        "if \"apple\" in thistuple:\n",
        "  print(\"Yes, 'apple' is in the fruits tuple\")"
      ],
      "execution_count": 77,
      "outputs": [
        {
          "output_type": "stream",
          "text": [
            "Yes, 'apple' is in the fruits tuple\n"
          ],
          "name": "stdout"
        }
      ]
    },
    {
      "cell_type": "markdown",
      "metadata": {
        "id": "gUkCD4hJLeSJ",
        "colab_type": "text"
      },
      "source": [
        "## **Tuple Length**\n",
        "\n",
        "To determine how many items a tuple has, use the `len()` method:"
      ]
    },
    {
      "cell_type": "code",
      "metadata": {
        "id": "stNM3geQLder",
        "colab_type": "code",
        "colab": {
          "base_uri": "https://localhost:8080/",
          "height": 34
        },
        "outputId": "e64fc171-8423-4761-cab3-125c5c5667fb"
      },
      "source": [
        " thistuple = (\"apple\", \"banana\", \"cherry\")\n",
        "print(len(thistuple)) "
      ],
      "execution_count": 78,
      "outputs": [
        {
          "output_type": "stream",
          "text": [
            "3\n"
          ],
          "name": "stdout"
        }
      ]
    },
    {
      "cell_type": "markdown",
      "metadata": {
        "id": "QxQ99xmhLnxe",
        "colab_type": "text"
      },
      "source": [
        "## **Add Items**\n",
        "\n",
        "Once a tuple is created, you cannot add items to it. Tuples are **unchangeable**."
      ]
    },
    {
      "cell_type": "code",
      "metadata": {
        "id": "IliGoLuuLa6W",
        "colab_type": "code",
        "colab": {
          "base_uri": "https://localhost:8080/",
          "height": 200
        },
        "outputId": "004d304c-8142-469c-85e6-5bb0275b6d72"
      },
      "source": [
        "thistuple = (\"apple\", \"banana\", \"cherry\")\n",
        "thistuple[3] = \"orange\" # This will raise an error\n",
        "print(thistuple)"
      ],
      "execution_count": 79,
      "outputs": [
        {
          "output_type": "error",
          "ename": "TypeError",
          "evalue": "ignored",
          "traceback": [
            "\u001b[0;31m---------------------------------------------------------------------------\u001b[0m",
            "\u001b[0;31mTypeError\u001b[0m                                 Traceback (most recent call last)",
            "\u001b[0;32m<ipython-input-79-fe88f2910dbf>\u001b[0m in \u001b[0;36m<module>\u001b[0;34m()\u001b[0m\n\u001b[1;32m      1\u001b[0m \u001b[0mthistuple\u001b[0m \u001b[0;34m=\u001b[0m \u001b[0;34m(\u001b[0m\u001b[0;34m\"apple\"\u001b[0m\u001b[0;34m,\u001b[0m \u001b[0;34m\"banana\"\u001b[0m\u001b[0;34m,\u001b[0m \u001b[0;34m\"cherry\"\u001b[0m\u001b[0;34m)\u001b[0m\u001b[0;34m\u001b[0m\u001b[0;34m\u001b[0m\u001b[0m\n\u001b[0;32m----> 2\u001b[0;31m \u001b[0mthistuple\u001b[0m\u001b[0;34m[\u001b[0m\u001b[0;36m3\u001b[0m\u001b[0;34m]\u001b[0m \u001b[0;34m=\u001b[0m \u001b[0;34m\"orange\"\u001b[0m \u001b[0;31m# This will raise an error\u001b[0m\u001b[0;34m\u001b[0m\u001b[0;34m\u001b[0m\u001b[0m\n\u001b[0m\u001b[1;32m      3\u001b[0m \u001b[0mprint\u001b[0m\u001b[0;34m(\u001b[0m\u001b[0mthistuple\u001b[0m\u001b[0;34m)\u001b[0m\u001b[0;34m\u001b[0m\u001b[0;34m\u001b[0m\u001b[0m\n",
            "\u001b[0;31mTypeError\u001b[0m: 'tuple' object does not support item assignment"
          ]
        }
      ]
    },
    {
      "cell_type": "markdown",
      "metadata": {
        "id": "Vpp1EO_TLw-B",
        "colab_type": "text"
      },
      "source": [
        "## **Create Tuple With One Item**\n",
        "\n",
        "To create a tuple with only one item, you have add a comma after the item, unless Python will not recognize the variable as a tuple."
      ]
    },
    {
      "cell_type": "code",
      "metadata": {
        "id": "O3HvX5p-LtlS",
        "colab_type": "code",
        "colab": {
          "base_uri": "https://localhost:8080/",
          "height": 52
        },
        "outputId": "701bd2c8-6ce0-43a4-e757-df2406a83f30"
      },
      "source": [
        "thistuple = (\"apple\",)\n",
        "print(type(thistuple))\n",
        "\n",
        "#NOT a tuple\n",
        "thistuple = (\"apple\")\n",
        "print(type(thistuple)) "
      ],
      "execution_count": 80,
      "outputs": [
        {
          "output_type": "stream",
          "text": [
            "<class 'tuple'>\n",
            "<class 'str'>\n"
          ],
          "name": "stdout"
        }
      ]
    },
    {
      "cell_type": "markdown",
      "metadata": {
        "id": "FYrHDEAQL2VD",
        "colab_type": "text"
      },
      "source": [
        "## **Remove Items**"
      ]
    },
    {
      "cell_type": "markdown",
      "metadata": {
        "id": "-t1lM9nYL7PB",
        "colab_type": "text"
      },
      "source": [
        "Note: You cannot remove items in a tuple.\n",
        "\n",
        " Tuples are unchangeable, so you cannot remove items from it, but you can delete the tuple completely:\n",
        "Example\n",
        "\n",
        "The del keyword can delete the tuple completely:"
      ]
    },
    {
      "cell_type": "code",
      "metadata": {
        "id": "nFo7dQU_L0JT",
        "colab_type": "code",
        "colab": {
          "base_uri": "https://localhost:8080/",
          "height": 200
        },
        "outputId": "ea164ae9-a415-4282-b413-a593cfe5774c"
      },
      "source": [
        "thistuple = (\"apple\", \"banana\", \"cherry\")\n",
        "del thistuple\n",
        "print(thistuple) #this will raise an error because the tuple no longer exists   "
      ],
      "execution_count": 83,
      "outputs": [
        {
          "output_type": "error",
          "ename": "NameError",
          "evalue": "ignored",
          "traceback": [
            "\u001b[0;31m---------------------------------------------------------------------------\u001b[0m",
            "\u001b[0;31mNameError\u001b[0m                                 Traceback (most recent call last)",
            "\u001b[0;32m<ipython-input-83-99603c64a858>\u001b[0m in \u001b[0;36m<module>\u001b[0;34m()\u001b[0m\n\u001b[1;32m      1\u001b[0m \u001b[0mthistuple\u001b[0m \u001b[0;34m=\u001b[0m \u001b[0;34m(\u001b[0m\u001b[0;34m\"apple\"\u001b[0m\u001b[0;34m,\u001b[0m \u001b[0;34m\"banana\"\u001b[0m\u001b[0;34m,\u001b[0m \u001b[0;34m\"cherry\"\u001b[0m\u001b[0;34m)\u001b[0m\u001b[0;34m\u001b[0m\u001b[0;34m\u001b[0m\u001b[0m\n\u001b[1;32m      2\u001b[0m \u001b[0;32mdel\u001b[0m \u001b[0mthistuple\u001b[0m\u001b[0;34m\u001b[0m\u001b[0;34m\u001b[0m\u001b[0m\n\u001b[0;32m----> 3\u001b[0;31m \u001b[0mprint\u001b[0m\u001b[0;34m(\u001b[0m\u001b[0mthistuple\u001b[0m\u001b[0;34m)\u001b[0m \u001b[0;31m#this will raise an error because the tuple no longer exists\u001b[0m\u001b[0;34m\u001b[0m\u001b[0;34m\u001b[0m\u001b[0m\n\u001b[0m",
            "\u001b[0;31mNameError\u001b[0m: name 'thistuple' is not defined"
          ]
        }
      ]
    },
    {
      "cell_type": "markdown",
      "metadata": {
        "id": "A1FzSujvML6R",
        "colab_type": "text"
      },
      "source": [
        "## **Join Two Tuples**\n",
        "\n",
        "To join two or more tuples you can use the + operator:"
      ]
    },
    {
      "cell_type": "code",
      "metadata": {
        "id": "sFnwrnWgL_6a",
        "colab_type": "code",
        "colab": {
          "base_uri": "https://localhost:8080/",
          "height": 34
        },
        "outputId": "924325de-72e5-4eb5-b8cb-0206a539fb9a"
      },
      "source": [
        "tuple1 = (\"a\", \"b\" , \"c\")\n",
        "tuple2 = (1, 2, 3)\n",
        "\n",
        "tuple3 = tuple1 + tuple2\n",
        "print(tuple3)"
      ],
      "execution_count": 84,
      "outputs": [
        {
          "output_type": "stream",
          "text": [
            "('a', 'b', 'c', 1, 2, 3)\n"
          ],
          "name": "stdout"
        }
      ]
    },
    {
      "cell_type": "markdown",
      "metadata": {
        "id": "Tm1NgUtyMRPk",
        "colab_type": "text"
      },
      "source": [
        "## **The tuple() Constructor**\n",
        "\n",
        "It is also possible to use the `tuple()` constructor to make a tuple."
      ]
    },
    {
      "cell_type": "code",
      "metadata": {
        "id": "O4Se4k3FMPPH",
        "colab_type": "code",
        "colab": {
          "base_uri": "https://localhost:8080/",
          "height": 34
        },
        "outputId": "3c301606-18a4-4d7c-9778-f5d7585e70f1"
      },
      "source": [
        "thistuple = tuple((\"apple\", \"banana\", \"cherry\")) # note the double round-brackets\n",
        "print(thistuple)"
      ],
      "execution_count": 85,
      "outputs": [
        {
          "output_type": "stream",
          "text": [
            "('apple', 'banana', 'cherry')\n"
          ],
          "name": "stdout"
        }
      ]
    },
    {
      "cell_type": "markdown",
      "metadata": {
        "id": "lEe1_xwKMcvE",
        "colab_type": "text"
      },
      "source": [
        "## **Tuple Methods**\n",
        "\n",
        "Python has two built-in methods that you can use on tuples."
      ]
    },
    {
      "cell_type": "code",
      "metadata": {
        "id": "tPmhsNgcMbCv",
        "colab_type": "code",
        "colab": {}
      },
      "source": [
        "Method \t  Description\n",
        "count()\t  Returns the number of times a specified value occurs in a tuple\n",
        "index()\t  Searches the tuple for a specified value and returns the position of where it was found"
      ],
      "execution_count": 0,
      "outputs": []
    },
    {
      "cell_type": "markdown",
      "metadata": {
        "id": "CGMmv0DeMrpg",
        "colab_type": "text"
      },
      "source": [
        "### **Set**\n",
        "\n",
        "A set is a collection which is unordered and unindexed. In Python sets are written with curly brackets"
      ]
    },
    {
      "cell_type": "code",
      "metadata": {
        "id": "XMOLvm4uMuLJ",
        "colab_type": "code",
        "colab": {
          "base_uri": "https://localhost:8080/",
          "height": 34
        },
        "outputId": "c2d39f28-54ef-4cba-c743-877e2de757b6"
      },
      "source": [
        "thisset = {\"apple\", \"banana\", \"cherry\"}\n",
        "print(thisset) "
      ],
      "execution_count": 86,
      "outputs": [
        {
          "output_type": "stream",
          "text": [
            "{'apple', 'banana', 'cherry'}\n"
          ],
          "name": "stdout"
        }
      ]
    },
    {
      "cell_type": "markdown",
      "metadata": {
        "id": "ewmFFlNYM0Rn",
        "colab_type": "text"
      },
      "source": [
        "`Note: Sets are unordered, so you cannot be sure in which order the items will appear.`"
      ]
    },
    {
      "cell_type": "markdown",
      "metadata": {
        "id": "7W_nvC0pM4IP",
        "colab_type": "text"
      },
      "source": [
        "## **Access Items**\n",
        "\n",
        "You cannot access items in a set by referring to an index, since sets are unordered the items has no index.\n",
        "\n",
        "But you can loop through the set items using a `for` loop, or ask if a specified value is present in a set, by using the `in` keyword."
      ]
    },
    {
      "cell_type": "code",
      "metadata": {
        "id": "8BMfsO-vMx4H",
        "colab_type": "code",
        "colab": {
          "base_uri": "https://localhost:8080/",
          "height": 69
        },
        "outputId": "759bce05-b8f9-4eb4-e6cc-449f265dfa45"
      },
      "source": [
        "thisset = {\"apple\", \"banana\", \"cherry\"}\n",
        "\n",
        "for x in thisset:\n",
        "  print(x) "
      ],
      "execution_count": 87,
      "outputs": [
        {
          "output_type": "stream",
          "text": [
            "apple\n",
            "banana\n",
            "cherry\n"
          ],
          "name": "stdout"
        }
      ]
    },
    {
      "cell_type": "code",
      "metadata": {
        "id": "by9nm2BANBnk",
        "colab_type": "code",
        "colab": {
          "base_uri": "https://localhost:8080/",
          "height": 34
        },
        "outputId": "75773582-3bef-4a9a-c8a2-7ce2c5da3565"
      },
      "source": [
        "thisset = {\"apple\", \"banana\", \"cherry\"}\n",
        "\n",
        "print(\"banana\" in thisset) "
      ],
      "execution_count": 88,
      "outputs": [
        {
          "output_type": "stream",
          "text": [
            "True\n"
          ],
          "name": "stdout"
        }
      ]
    },
    {
      "cell_type": "markdown",
      "metadata": {
        "id": "uhCUNfeHNHbt",
        "colab_type": "text"
      },
      "source": [
        "## **Change Items**\n",
        "\n",
        "Once a set is created, you cannot change its items, but you can add new items.\n",
        "\n",
        "## **Add Items**\n",
        "\n",
        "To add one item to a set use the `add()` method.\n",
        "\n",
        "To add more than one item to a set use the `update()` method."
      ]
    },
    {
      "cell_type": "markdown",
      "metadata": {
        "id": "bR-aOs1UNRwe",
        "colab_type": "text"
      },
      "source": [
        "**Example**\n",
        "\n",
        "Add an item to a set, using the `add()` method:"
      ]
    },
    {
      "cell_type": "code",
      "metadata": {
        "id": "Qz45Bge-NDUO",
        "colab_type": "code",
        "colab": {
          "base_uri": "https://localhost:8080/",
          "height": 34
        },
        "outputId": "49a5efa0-752a-443a-8c37-a8f7cd86ccd1"
      },
      "source": [
        "thisset = {\"apple\", \"banana\", \"cherry\"}\n",
        "\n",
        "thisset.add(\"orange\")\n",
        "\n",
        "print(thisset)"
      ],
      "execution_count": 89,
      "outputs": [
        {
          "output_type": "stream",
          "text": [
            "{'apple', 'banana', 'cherry', 'orange'}\n"
          ],
          "name": "stdout"
        }
      ]
    },
    {
      "cell_type": "markdown",
      "metadata": {
        "id": "4R2jntWkNZXN",
        "colab_type": "text"
      },
      "source": [
        "**Example**\n",
        "\n",
        "Add multiple items to a set, using the `update()` method:"
      ]
    },
    {
      "cell_type": "code",
      "metadata": {
        "id": "JA1X9Rd-NXMK",
        "colab_type": "code",
        "colab": {
          "base_uri": "https://localhost:8080/",
          "height": 34
        },
        "outputId": "a8b20375-b2ef-4099-db0d-c52ce65140ce"
      },
      "source": [
        "thisset = {\"apple\", \"banana\", \"cherry\"}\n",
        "\n",
        "thisset.update([\"orange\", \"mango\", \"grapes\"])\n",
        "\n",
        "print(thisset) "
      ],
      "execution_count": 90,
      "outputs": [
        {
          "output_type": "stream",
          "text": [
            "{'apple', 'grapes', 'mango', 'banana', 'cherry', 'orange'}\n"
          ],
          "name": "stdout"
        }
      ]
    },
    {
      "cell_type": "markdown",
      "metadata": {
        "id": "OQtkbTzCNfa_",
        "colab_type": "text"
      },
      "source": [
        "## **Get the Length of a Set**\n",
        "\n",
        "To determine how many items a set has, use the `len()` method."
      ]
    },
    {
      "cell_type": "markdown",
      "metadata": {
        "id": "M2bf3_YFNj_3",
        "colab_type": "text"
      },
      "source": [
        "**Example**\n",
        "\n",
        "Get the number of items in a set:"
      ]
    },
    {
      "cell_type": "code",
      "metadata": {
        "id": "53z5U1OWNdhb",
        "colab_type": "code",
        "colab": {
          "base_uri": "https://localhost:8080/",
          "height": 34
        },
        "outputId": "262524c4-3a89-4cfd-a52a-b2dc6fd2487e"
      },
      "source": [
        "thisset = {\"apple\", \"banana\", \"cherry\"}\n",
        "\n",
        "print(len(thisset))"
      ],
      "execution_count": 91,
      "outputs": [
        {
          "output_type": "stream",
          "text": [
            "3\n"
          ],
          "name": "stdout"
        }
      ]
    },
    {
      "cell_type": "markdown",
      "metadata": {
        "id": "PBn0vFpVNqnm",
        "colab_type": "text"
      },
      "source": [
        "## **Remove Item**\n",
        "\n",
        "To remove an item in a set, use the `remove()`, or the `discard()` method."
      ]
    },
    {
      "cell_type": "code",
      "metadata": {
        "id": "A8rxG2GgNnJ7",
        "colab_type": "code",
        "colab": {
          "base_uri": "https://localhost:8080/",
          "height": 34
        },
        "outputId": "5abf9e4d-968c-4702-a9d8-47caad16da9d"
      },
      "source": [
        "thisset = {\"apple\", \"banana\", \"cherry\"}\n",
        "\n",
        "thisset.remove(\"banana\")\n",
        "\n",
        "print(thisset)"
      ],
      "execution_count": 92,
      "outputs": [
        {
          "output_type": "stream",
          "text": [
            "{'apple', 'cherry'}\n"
          ],
          "name": "stdout"
        }
      ]
    },
    {
      "cell_type": "markdown",
      "metadata": {
        "id": "4mhDEVl_Nzil",
        "colab_type": "text"
      },
      "source": [
        "`Note: If the item to remove does not exist, remove() will raise an error.`"
      ]
    },
    {
      "cell_type": "markdown",
      "metadata": {
        "id": "EMgFPX2mN3hB",
        "colab_type": "text"
      },
      "source": [
        "**Example**\n",
        "\n",
        "Remove \"banana\" by using the discard() method:"
      ]
    },
    {
      "cell_type": "code",
      "metadata": {
        "id": "_NNcE4-PNwYB",
        "colab_type": "code",
        "colab": {
          "base_uri": "https://localhost:8080/",
          "height": 34
        },
        "outputId": "b69b2ccf-c9eb-4a54-d836-39f9cc608d6e"
      },
      "source": [
        "thisset = {\"apple\", \"banana\", \"cherry\"}\n",
        "\n",
        "thisset.discard(\"banana\")\n",
        "\n",
        "print(thisset) "
      ],
      "execution_count": 93,
      "outputs": [
        {
          "output_type": "stream",
          "text": [
            "{'apple', 'cherry'}\n"
          ],
          "name": "stdout"
        }
      ]
    },
    {
      "cell_type": "markdown",
      "metadata": {
        "id": "Ws-ul9ijN9-o",
        "colab_type": "text"
      },
      "source": [
        "`Note: If the item to remove does not exist, discard() will NOT raise an error.`\n",
        "\n",
        "You can also use the `pop()`, method to remove an item, but this method will remove the last item. Remember that sets are unordered, so you will not know what item that gets removed.\n",
        "\n",
        "The return value of the `pop()` method is the removed item."
      ]
    },
    {
      "cell_type": "markdown",
      "metadata": {
        "id": "ws7JTuElN9vE",
        "colab_type": "text"
      },
      "source": [
        "**Example**\n",
        "\n",
        "Remove the last item by using the pop() method:"
      ]
    },
    {
      "cell_type": "code",
      "metadata": {
        "id": "YJGzzhzqPdi4",
        "colab_type": "code",
        "colab": {}
      },
      "source": [
        ""
      ],
      "execution_count": 0,
      "outputs": []
    },
    {
      "cell_type": "code",
      "metadata": {
        "id": "amufVj2QN7E5",
        "colab_type": "code",
        "colab": {
          "base_uri": "https://localhost:8080/",
          "height": 52
        },
        "outputId": "d63b2bfd-8c94-4c28-96ca-cdd19cc722dc"
      },
      "source": [
        "thisset = {\"apple\", \"banana\", \"cherry\"}\n",
        "\n",
        "x = thisset.pop()\n",
        "\n",
        "print(x)\n",
        "\n",
        "print(thisset) "
      ],
      "execution_count": 94,
      "outputs": [
        {
          "output_type": "stream",
          "text": [
            "apple\n",
            "{'banana', 'cherry'}\n"
          ],
          "name": "stdout"
        }
      ]
    },
    {
      "cell_type": "markdown",
      "metadata": {
        "id": "CbzqDgZMPiuK",
        "colab_type": "text"
      },
      "source": [
        "*Note: Sets are unordered, so when using the pop() method, you will not know which item that gets removed.*"
      ]
    },
    {
      "cell_type": "markdown",
      "metadata": {
        "id": "EEkqFjuDPneQ",
        "colab_type": "text"
      },
      "source": [
        "## **Example**\n",
        "\n",
        "The clear() method empties the set:"
      ]
    },
    {
      "cell_type": "code",
      "metadata": {
        "id": "l9BpkX4kOLhY",
        "colab_type": "code",
        "colab": {
          "base_uri": "https://localhost:8080/",
          "height": 34
        },
        "outputId": "a3c5d5c0-20be-4bbe-a278-52bf8207d939"
      },
      "source": [
        "thisset = {\"apple\", \"banana\", \"cherry\"}\n",
        "\n",
        "thisset.clear()\n",
        "\n",
        "print(thisset) "
      ],
      "execution_count": 95,
      "outputs": [
        {
          "output_type": "stream",
          "text": [
            "set()\n"
          ],
          "name": "stdout"
        }
      ]
    },
    {
      "cell_type": "markdown",
      "metadata": {
        "id": "9qacdmOEP03M",
        "colab_type": "text"
      },
      "source": [
        "**Example**\n",
        "\n",
        "The `del` keyword will delete the set completely:"
      ]
    },
    {
      "cell_type": "code",
      "metadata": {
        "id": "MhBJJhPxPwFe",
        "colab_type": "code",
        "colab": {
          "base_uri": "https://localhost:8080/",
          "height": 200
        },
        "outputId": "7463d408-2481-4f41-b4f4-7f16dd91806e"
      },
      "source": [
        "thisset = {\"apple\", \"banana\", \"cherry\"}\n",
        "\n",
        "del thisset\n",
        "\n",
        "print(thisset) "
      ],
      "execution_count": 97,
      "outputs": [
        {
          "output_type": "error",
          "ename": "NameError",
          "evalue": "ignored",
          "traceback": [
            "\u001b[0;31m---------------------------------------------------------------------------\u001b[0m",
            "\u001b[0;31mNameError\u001b[0m                                 Traceback (most recent call last)",
            "\u001b[0;32m<ipython-input-97-2ea8698f7794>\u001b[0m in \u001b[0;36m<module>\u001b[0;34m()\u001b[0m\n\u001b[1;32m      3\u001b[0m \u001b[0;32mdel\u001b[0m \u001b[0mthisset\u001b[0m\u001b[0;34m\u001b[0m\u001b[0;34m\u001b[0m\u001b[0m\n\u001b[1;32m      4\u001b[0m \u001b[0;34m\u001b[0m\u001b[0m\n\u001b[0;32m----> 5\u001b[0;31m \u001b[0mprint\u001b[0m\u001b[0;34m(\u001b[0m\u001b[0mthisset\u001b[0m\u001b[0;34m)\u001b[0m\u001b[0;34m\u001b[0m\u001b[0;34m\u001b[0m\u001b[0m\n\u001b[0m",
            "\u001b[0;31mNameError\u001b[0m: name 'thisset' is not defined"
          ]
        }
      ]
    },
    {
      "cell_type": "markdown",
      "metadata": {
        "id": "QmuMj5ZBP-38",
        "colab_type": "text"
      },
      "source": [
        "## **Join Two Sets**\n",
        "\n",
        "There are several ways to join two or more sets in Python.\n",
        "\n",
        "You can use the `union()` method that returns a new set containing all items from both sets, or the `update()` method that inserts all the items from one set into another:"
      ]
    },
    {
      "cell_type": "markdown",
      "metadata": {
        "id": "1fAbO0rwQFFw",
        "colab_type": "text"
      },
      "source": [
        "**Example**\n",
        "\n",
        "The `union()` method returns a new set with all items from both sets:"
      ]
    },
    {
      "cell_type": "code",
      "metadata": {
        "id": "BSWiU47GP5tu",
        "colab_type": "code",
        "colab": {
          "base_uri": "https://localhost:8080/",
          "height": 34
        },
        "outputId": "9b0fdab8-ea0a-4786-c722-3bc42fe0bd02"
      },
      "source": [
        "set1 = {\"a\", \"b\" , \"c\"}\n",
        "set2 = {1, 2, 3}\n",
        "\n",
        "set3 = set1.union(set2)\n",
        "print(set3)"
      ],
      "execution_count": 98,
      "outputs": [
        {
          "output_type": "stream",
          "text": [
            "{'c', 1, 2, 3, 'b', 'a'}\n"
          ],
          "name": "stdout"
        }
      ]
    },
    {
      "cell_type": "markdown",
      "metadata": {
        "id": "9P9dNJczQL-F",
        "colab_type": "text"
      },
      "source": [
        "**Example**\n",
        "\n",
        "The `update()` method inserts the items in set2 into set1:"
      ]
    },
    {
      "cell_type": "code",
      "metadata": {
        "id": "kGhNDeSTQI_H",
        "colab_type": "code",
        "colab": {
          "base_uri": "https://localhost:8080/",
          "height": 34
        },
        "outputId": "635b52d2-55ed-4f0b-d402-86ea03e77ca0"
      },
      "source": [
        "set1 = {\"a\", \"b\" , \"c\"}\n",
        "set2 = {1, 2, 3}\n",
        "\n",
        "set1.update(set2)\n",
        "print(set1) "
      ],
      "execution_count": 99,
      "outputs": [
        {
          "output_type": "stream",
          "text": [
            "{'c', 1, 2, 3, 'b', 'a'}\n"
          ],
          "name": "stdout"
        }
      ]
    },
    {
      "cell_type": "markdown",
      "metadata": {
        "id": "iw9eT2lOYFbs",
        "colab_type": "text"
      },
      "source": [
        "**Note**: Both `union() `and `update()` will exclude any duplicate items."
      ]
    },
    {
      "cell_type": "markdown",
      "metadata": {
        "id": "Qo4jSq-FYR-B",
        "colab_type": "text"
      },
      "source": [
        "There are other methods that joins two sets and keeps ONLY the duplicates, or NEVER the duplicates, check the full list of set methods in the bottom of this page.\n",
        "\n",
        "## **The set() Constructor**\n",
        "\n",
        "It is also possible to use the `set()` constructor to make a set."
      ]
    },
    {
      "cell_type": "markdown",
      "metadata": {
        "id": "q3AHl-xVYef6",
        "colab_type": "text"
      },
      "source": [
        "**Example**\n",
        "\n",
        "Using the `set()` constructor to make a set:"
      ]
    },
    {
      "cell_type": "code",
      "metadata": {
        "id": "dT1dVofeQP2h",
        "colab_type": "code",
        "colab": {
          "base_uri": "https://localhost:8080/",
          "height": 34
        },
        "outputId": "5c969aa4-5f1d-4119-cddc-37f73b92020b"
      },
      "source": [
        "thisset = set((\"apple\", \"banana\", \"cherry\")) # note the double round-brackets\n",
        "print(thisset) "
      ],
      "execution_count": 100,
      "outputs": [
        {
          "output_type": "stream",
          "text": [
            "{'apple', 'banana', 'cherry'}\n"
          ],
          "name": "stdout"
        }
      ]
    },
    {
      "cell_type": "markdown",
      "metadata": {
        "id": "-k45DxtmZ4zi",
        "colab_type": "text"
      },
      "source": [
        "## **Set Methods**\n",
        "\n",
        "Python has a set of built-in methods that you can use on sets."
      ]
    },
    {
      "cell_type": "code",
      "metadata": {
        "id": "fRUk7idqYnhC",
        "colab_type": "code",
        "colab": {}
      },
      "source": [
        "Method \t                Description\n",
        "add()\t                  Adds an element to the set\n",
        "clear()\t                Removes all the elements from the set\n",
        "copy()\t                Returns a copy of the set\n",
        "difference()\t          Returns a set containing the difference between two or more sets\n",
        "difference_update()\t    Removes the items in this set that are also included in another, specified set\n",
        "discard()\t              Remove the specified item\n",
        "intersection()\t        Returns a set, that is the intersection of two other sets\n",
        "intersection_update()\t  Removes the items in this set that are not present in other, specified set(s)\n",
        "isdisjoint()\t          Returns whether two sets have a intersection or not\n",
        "issubset()\t            Returns whether another set contains this set or not\n",
        "issuperset()\t          Returns whether this set contains another set or not\n",
        "pop()\t                  Removes an element from the set\n",
        "remove()\t              Removes the specified element\n",
        "symmetric_difference()\tReturns a set with the symmetric differences of two sets\n",
        "symmetric_difference_update()\tinserts the symmetric differences from this set and another\n",
        "union()\t                Return a set containing the union of sets\n",
        "update()\t              Update the set with the union of this set and others"
      ],
      "execution_count": 0,
      "outputs": []
    },
    {
      "cell_type": "markdown",
      "metadata": {
        "id": "RQXfQm5SaTYS",
        "colab_type": "text"
      },
      "source": [
        "## **Dictionary**\n",
        "\n",
        "A dictionary is a collection which is unordered, changeable and indexed. In Python dictionaries are written with curly brackets, and they have keys and values.\n",
        "\n",
        "\n",
        "\n"
      ]
    },
    {
      "cell_type": "code",
      "metadata": {
        "id": "m-SJvwimaa9G",
        "colab_type": "code",
        "colab": {
          "base_uri": "https://localhost:8080/",
          "height": 34
        },
        "outputId": "472eb0d9-3fe0-4f30-93bf-b70cc36e54ef"
      },
      "source": [
        " thisdict =\t{\n",
        "  \"brand\": \"Ford\",\n",
        "  \"model\": \"Mustang\",\n",
        "  \"year\": 1964\n",
        "}\n",
        "print(thisdict)"
      ],
      "execution_count": 101,
      "outputs": [
        {
          "output_type": "stream",
          "text": [
            "{'brand': 'Ford', 'model': 'Mustang', 'year': 1964}\n"
          ],
          "name": "stdout"
        }
      ]
    },
    {
      "cell_type": "markdown",
      "metadata": {
        "id": "Gqbx3axBafHV",
        "colab_type": "text"
      },
      "source": [
        "## **Accessing Items**\n",
        "\n",
        "You can access the items of a dictionary by referring to its key name, inside square brackets:"
      ]
    },
    {
      "cell_type": "code",
      "metadata": {
        "id": "spUSA_h0acl0",
        "colab_type": "code",
        "colab": {}
      },
      "source": [
        "x = thisdict[\"model\"]"
      ],
      "execution_count": 0,
      "outputs": []
    },
    {
      "cell_type": "markdown",
      "metadata": {
        "id": "uk-oyZIMaoVL",
        "colab_type": "text"
      },
      "source": [
        "There is also a method called `get()` that will give you the same result:"
      ]
    },
    {
      "cell_type": "code",
      "metadata": {
        "id": "H_hS1uT6ajDD",
        "colab_type": "code",
        "colab": {}
      },
      "source": [
        "x = thisdict.get(\"model\")"
      ],
      "execution_count": 0,
      "outputs": []
    },
    {
      "cell_type": "markdown",
      "metadata": {
        "id": "oeTnPuxpbCF7",
        "colab_type": "text"
      },
      "source": [
        "## **Change Values**\n",
        "\n",
        "You can change the value of a specific item by referring to its key name:"
      ]
    },
    {
      "cell_type": "code",
      "metadata": {
        "id": "VJoUZ1fharbA",
        "colab_type": "code",
        "colab": {}
      },
      "source": [
        "thisdict =\t{\n",
        "  \"brand\": \"Ford\",\n",
        "  \"model\": \"Mustang\",\n",
        "  \"year\": 1964\n",
        "}\n",
        "thisdict[\"year\"] = 2018"
      ],
      "execution_count": 0,
      "outputs": []
    },
    {
      "cell_type": "markdown",
      "metadata": {
        "id": "YP7u4349bHCz",
        "colab_type": "text"
      },
      "source": [
        "## **Loop Through a Dictionary**\n",
        "\n",
        "You can loop through a dictionary by using a for loop.\n",
        "\n",
        "When looping through a dictionary, the return value are the keys of the dictionary, but there are methods to return the values as well."
      ]
    },
    {
      "cell_type": "code",
      "metadata": {
        "id": "AQhYarKgbFX1",
        "colab_type": "code",
        "colab": {
          "base_uri": "https://localhost:8080/",
          "height": 69
        },
        "outputId": "3dea8e38-60ee-4167-c619-4d7b67102a06"
      },
      "source": [
        "for x in thisdict:\n",
        "  print(x) "
      ],
      "execution_count": 105,
      "outputs": [
        {
          "output_type": "stream",
          "text": [
            "brand\n",
            "model\n",
            "year\n"
          ],
          "name": "stdout"
        }
      ]
    },
    {
      "cell_type": "markdown",
      "metadata": {
        "id": "UE7pHlqmbNBk",
        "colab_type": "text"
      },
      "source": [
        "**Example**\n",
        "\n",
        "Print all values in the dictionary, one by one:"
      ]
    },
    {
      "cell_type": "code",
      "metadata": {
        "id": "Ld7PnH9ibKwb",
        "colab_type": "code",
        "colab": {
          "base_uri": "https://localhost:8080/",
          "height": 69
        },
        "outputId": "e4b9961f-3c0d-455f-82c4-a5c2bac2c125"
      },
      "source": [
        "for x in thisdict:\n",
        "  print(thisdict[x]) "
      ],
      "execution_count": 106,
      "outputs": [
        {
          "output_type": "stream",
          "text": [
            "Ford\n",
            "Mustang\n",
            "2018\n"
          ],
          "name": "stdout"
        }
      ]
    },
    {
      "cell_type": "markdown",
      "metadata": {
        "id": "W6k82TlYbTy7",
        "colab_type": "text"
      },
      "source": [
        "**Example**\n",
        "\n",
        "You can also use the `values()` function to return values of a dictionary:"
      ]
    },
    {
      "cell_type": "code",
      "metadata": {
        "id": "GtiCOBnzbPrN",
        "colab_type": "code",
        "colab": {
          "base_uri": "https://localhost:8080/",
          "height": 69
        },
        "outputId": "db33ac22-e371-4c81-fc0e-bc12a3248942"
      },
      "source": [
        "for x in thisdict.values():\n",
        "  print(x) "
      ],
      "execution_count": 107,
      "outputs": [
        {
          "output_type": "stream",
          "text": [
            "Ford\n",
            "Mustang\n",
            "2018\n"
          ],
          "name": "stdout"
        }
      ]
    },
    {
      "cell_type": "markdown",
      "metadata": {
        "id": "xJmTdDUNbu4X",
        "colab_type": "text"
      },
      "source": [
        "Loop through both keys and values, by using the `items()` function:"
      ]
    },
    {
      "cell_type": "code",
      "metadata": {
        "id": "l61kV7TzbXwu",
        "colab_type": "code",
        "colab": {
          "base_uri": "https://localhost:8080/",
          "height": 69
        },
        "outputId": "bb49a46b-d4cf-455e-a821-2824e5cda179"
      },
      "source": [
        "for x, y in thisdict.items():\n",
        "  print(x, y) "
      ],
      "execution_count": 108,
      "outputs": [
        {
          "output_type": "stream",
          "text": [
            "brand Ford\n",
            "model Mustang\n",
            "year 2018\n"
          ],
          "name": "stdout"
        }
      ]
    },
    {
      "cell_type": "markdown",
      "metadata": {
        "id": "EV6aO82Ub4qZ",
        "colab_type": "text"
      },
      "source": [
        "## **Check if Key Exists**\n",
        "\n",
        "To determine if a specified key is present in a dictionary use the in keyword:"
      ]
    },
    {
      "cell_type": "code",
      "metadata": {
        "id": "DthtQUJ_bzr9",
        "colab_type": "code",
        "colab": {
          "base_uri": "https://localhost:8080/",
          "height": 34
        },
        "outputId": "f41adb5b-31c7-4b78-e4c5-64587c85428f"
      },
      "source": [
        "thisdict =\t{\n",
        "  \"brand\": \"Ford\",\n",
        "  \"model\": \"Mustang\",\n",
        "  \"year\": 1964\n",
        "}\n",
        "if \"model\" in thisdict:\n",
        "  print(\"Yes, 'model' is one of the keys in the thisdict dictionary\") "
      ],
      "execution_count": 109,
      "outputs": [
        {
          "output_type": "stream",
          "text": [
            "Yes, 'model' is one of the keys in the thisdict dictionary\n"
          ],
          "name": "stdout"
        }
      ]
    },
    {
      "cell_type": "markdown",
      "metadata": {
        "id": "O_X-lZD1cGRb",
        "colab_type": "text"
      },
      "source": [
        "## **Dictionary Length**\n",
        "\n",
        "To determine how many items (key-value pairs) a dictionary has, use the `len()` method."
      ]
    },
    {
      "cell_type": "code",
      "metadata": {
        "id": "Ee16qzxBcBW1",
        "colab_type": "code",
        "colab": {
          "base_uri": "https://localhost:8080/",
          "height": 34
        },
        "outputId": "15334ccb-3fe3-4b05-f04a-6876cc11715b"
      },
      "source": [
        "print(len(thisdict)) "
      ],
      "execution_count": 110,
      "outputs": [
        {
          "output_type": "stream",
          "text": [
            "3\n"
          ],
          "name": "stdout"
        }
      ]
    },
    {
      "cell_type": "markdown",
      "metadata": {
        "id": "Pbu1gvIsdht-",
        "colab_type": "text"
      },
      "source": [
        "## **Adding Items**\n",
        "\n",
        "Adding an item to the dictionary is done by using a new index key and assigning a value to it:"
      ]
    },
    {
      "cell_type": "code",
      "metadata": {
        "id": "VJgO7R6UcMLX",
        "colab_type": "code",
        "colab": {
          "base_uri": "https://localhost:8080/",
          "height": 34
        },
        "outputId": "95800ec2-9a8b-441a-e818-7b1601fc5e4f"
      },
      "source": [
        "thisdict =\t{\n",
        "  \"brand\": \"Ford\",\n",
        "  \"model\": \"Mustang\",\n",
        "  \"year\": 1964\n",
        "}\n",
        "thisdict[\"color\"] = \"red\"\n",
        "print(thisdict)"
      ],
      "execution_count": 111,
      "outputs": [
        {
          "output_type": "stream",
          "text": [
            "{'brand': 'Ford', 'model': 'Mustang', 'year': 1964, 'color': 'red'}\n"
          ],
          "name": "stdout"
        }
      ]
    },
    {
      "cell_type": "markdown",
      "metadata": {
        "id": "K7xS-Yojdnpu",
        "colab_type": "text"
      },
      "source": [
        "## **Removing Items**\n",
        "\n",
        "There are several methods to remove items from a dictionary:"
      ]
    },
    {
      "cell_type": "markdown",
      "metadata": {
        "id": "6Wmg178kdr6A",
        "colab_type": "text"
      },
      "source": [
        "**Example**\n",
        "\n",
        "The `pop()` method removes the item with the specified key name:"
      ]
    },
    {
      "cell_type": "code",
      "metadata": {
        "id": "HkmDDmOOdlgB",
        "colab_type": "code",
        "colab": {
          "base_uri": "https://localhost:8080/",
          "height": 34
        },
        "outputId": "2f18f9e6-3107-41eb-be3a-695d2bd31293"
      },
      "source": [
        "thisdict =\t{\n",
        "  \"brand\": \"Ford\",\n",
        "  \"model\": \"Mustang\",\n",
        "  \"year\": 1964\n",
        "}\n",
        "thisdict.pop(\"model\")\n",
        "print(thisdict) "
      ],
      "execution_count": 112,
      "outputs": [
        {
          "output_type": "stream",
          "text": [
            "{'brand': 'Ford', 'year': 1964}\n"
          ],
          "name": "stdout"
        }
      ]
    },
    {
      "cell_type": "markdown",
      "metadata": {
        "id": "_p01zoiJdyTA",
        "colab_type": "text"
      },
      "source": [
        "**Example**\n",
        "\n",
        "The `popitem()` method removes the last inserted item (in versions before 3.7, a random item is removed instead):"
      ]
    },
    {
      "cell_type": "code",
      "metadata": {
        "id": "7cjbk0eOdwGC",
        "colab_type": "code",
        "colab": {
          "base_uri": "https://localhost:8080/",
          "height": 34
        },
        "outputId": "ae9cf098-7d43-4998-ac4c-32a096ec8b8e"
      },
      "source": [
        " thisdict =\t{\n",
        "  \"brand\": \"Ford\",\n",
        "  \"model\": \"Mustang\",\n",
        "  \"year\": 1964\n",
        "}\n",
        "thisdict.popitem()\n",
        "print(thisdict) "
      ],
      "execution_count": 115,
      "outputs": [
        {
          "output_type": "stream",
          "text": [
            "{'brand': 'Ford', 'model': 'Mustang'}\n"
          ],
          "name": "stdout"
        }
      ]
    },
    {
      "cell_type": "markdown",
      "metadata": {
        "id": "Eefz3PV8eIZq",
        "colab_type": "text"
      },
      "source": [
        "**Example**\n",
        "\n",
        "The `del` keyword removes the item with the specified key name:"
      ]
    },
    {
      "cell_type": "code",
      "metadata": {
        "id": "llhIdeZyd4dY",
        "colab_type": "code",
        "colab": {
          "base_uri": "https://localhost:8080/",
          "height": 34
        },
        "outputId": "95834876-eff8-4f9f-e92f-d207f89af224"
      },
      "source": [
        " thisdict =\t{\n",
        "  \"brand\": \"Ford\",\n",
        "  \"model\": \"Mustang\",\n",
        "  \"year\": 1964\n",
        "}\n",
        "del thisdict[\"model\"]\n",
        "print(thisdict) "
      ],
      "execution_count": 116,
      "outputs": [
        {
          "output_type": "stream",
          "text": [
            "{'brand': 'Ford', 'year': 1964}\n"
          ],
          "name": "stdout"
        }
      ]
    },
    {
      "cell_type": "markdown",
      "metadata": {
        "id": "LazqZG_XeO0X",
        "colab_type": "text"
      },
      "source": [
        "**Example**\n",
        "\n",
        "The `clear()` keyword empties the dictionary:\n",
        "\n"
      ]
    },
    {
      "cell_type": "code",
      "metadata": {
        "id": "iuRbdcMSeMH6",
        "colab_type": "code",
        "colab": {
          "base_uri": "https://localhost:8080/",
          "height": 34
        },
        "outputId": "de3baa24-1563-428c-92d7-9fbc8f6d678a"
      },
      "source": [
        "thisdict =\t{\n",
        "  \"brand\": \"Ford\",\n",
        "  \"model\": \"Mustang\",\n",
        "  \"year\": 1964\n",
        "}\n",
        "thisdict.clear()\n",
        "print(thisdict) "
      ],
      "execution_count": 117,
      "outputs": [
        {
          "output_type": "stream",
          "text": [
            "{}\n"
          ],
          "name": "stdout"
        }
      ]
    },
    {
      "cell_type": "markdown",
      "metadata": {
        "id": "ESAp6896eV2M",
        "colab_type": "text"
      },
      "source": [
        "## **Copy a Dictionary**\n",
        "\n",
        "You cannot copy a dictionary simply by typing `dict2` = `dict1`, because: `dict2` will only be a reference to dict1, and changes made in dict1 will automatically also be made in dict2.\n",
        "\n",
        "There are ways to make a copy, one way is to use the built-in Dictionary method `copy()`."
      ]
    },
    {
      "cell_type": "markdown",
      "metadata": {
        "id": "5Up6KeKFejtS",
        "colab_type": "text"
      },
      "source": [
        "**Example**\n",
        "\n",
        "Make a copy of a dictionary with the `copy()` method:"
      ]
    },
    {
      "cell_type": "code",
      "metadata": {
        "id": "hxMV-yjweSwS",
        "colab_type": "code",
        "colab": {
          "base_uri": "https://localhost:8080/",
          "height": 34
        },
        "outputId": "744bdbbe-8baa-42d0-8b14-b33b50dcd6cc"
      },
      "source": [
        "thisdict =\t{\n",
        "  \"brand\": \"Ford\",\n",
        "  \"model\": \"Mustang\",\n",
        "  \"year\": 1964\n",
        "}\n",
        "mydict = thisdict.copy()\n",
        "print(mydict)"
      ],
      "execution_count": 118,
      "outputs": [
        {
          "output_type": "stream",
          "text": [
            "{'brand': 'Ford', 'model': 'Mustang', 'year': 1964}\n"
          ],
          "name": "stdout"
        }
      ]
    },
    {
      "cell_type": "markdown",
      "metadata": {
        "id": "dJS7THpEeqFg",
        "colab_type": "text"
      },
      "source": [
        "Another way to make a copy is to use the built-in method `dict()`."
      ]
    },
    {
      "cell_type": "markdown",
      "metadata": {
        "id": "mIvZOH8TeukC",
        "colab_type": "text"
      },
      "source": [
        "**Example**\n",
        "\n",
        "Make a copy of a dictionary with the `dict()` method:"
      ]
    },
    {
      "cell_type": "code",
      "metadata": {
        "id": "krOBioNMenTU",
        "colab_type": "code",
        "colab": {
          "base_uri": "https://localhost:8080/",
          "height": 34
        },
        "outputId": "2ad0f491-3552-47a5-f1cf-df1f9dacb285"
      },
      "source": [
        "thisdict =\t{\n",
        "  \"brand\": \"Ford\",\n",
        "  \"model\": \"Mustang\",\n",
        "  \"year\": 1964\n",
        "}\n",
        "mydict = dict(thisdict)\n",
        "print(mydict) "
      ],
      "execution_count": 119,
      "outputs": [
        {
          "output_type": "stream",
          "text": [
            "{'brand': 'Ford', 'model': 'Mustang', 'year': 1964}\n"
          ],
          "name": "stdout"
        }
      ]
    },
    {
      "cell_type": "markdown",
      "metadata": {
        "id": "zYQ6BXFHe459",
        "colab_type": "text"
      },
      "source": [
        "## **Nested Dictionaries**\n",
        "\n",
        "A dictionary can also contain many dictionaries, this is called nested dictionaries.\n",
        "\n",
        "**Example**\n",
        "\n",
        "Create a dictionary that contain three dictionaries:"
      ]
    },
    {
      "cell_type": "code",
      "metadata": {
        "id": "5Z0gwmK-e0B4",
        "colab_type": "code",
        "colab": {}
      },
      "source": [
        "myfamily = {\n",
        "  \"child1\" : {\n",
        "    \"name\" : \"Emil\",\n",
        "    \"year\" : 2004\n",
        "  },\n",
        "  \"child2\" : {\n",
        "    \"name\" : \"Tobias\",\n",
        "    \"year\" : 2007\n",
        "  },\n",
        "  \"child3\" : {\n",
        "    \"name\" : \"Linus\",\n",
        "    \"year\" : 2011\n",
        "  }\n",
        "} "
      ],
      "execution_count": 0,
      "outputs": []
    },
    {
      "cell_type": "code",
      "metadata": {
        "id": "FqHit7VVe9_L",
        "colab_type": "code",
        "colab": {}
      },
      "source": [
        "child1 = {\n",
        "  \"name\" : \"Emil\",\n",
        "  \"year\" : 2004\n",
        "}\n",
        "child2 = {\n",
        "  \"name\" : \"Tobias\",\n",
        "  \"year\" : 2007\n",
        "}\n",
        "child3 = {\n",
        "  \"name\" : \"Linus\",\n",
        "  \"year\" : 2011\n",
        "}\n",
        "\n",
        "myfamily = {\n",
        "  \"child1\" : child1,\n",
        "  \"child2\" : child2,\n",
        "  \"child3\" : child3\n",
        "} "
      ],
      "execution_count": 0,
      "outputs": []
    },
    {
      "cell_type": "markdown",
      "metadata": {
        "id": "_4r1uky9fCPq",
        "colab_type": "text"
      },
      "source": [
        "## **The dict() Constructor**\n",
        "\n",
        "It is also possible to use the `dict()` constructor to make a new dictionary:"
      ]
    },
    {
      "cell_type": "code",
      "metadata": {
        "id": "yKiQV8atfATw",
        "colab_type": "code",
        "colab": {
          "base_uri": "https://localhost:8080/",
          "height": 34
        },
        "outputId": "ba481471-7e09-400c-b6cc-70d065efd623"
      },
      "source": [
        "thisdict = dict(brand=\"Ford\", model=\"Mustang\", year=1964)\n",
        "# note that keywords are not string literals\n",
        "# note the use of equals rather than colon for the assignment\n",
        "print(thisdict)"
      ],
      "execution_count": 122,
      "outputs": [
        {
          "output_type": "stream",
          "text": [
            "{'brand': 'Ford', 'model': 'Mustang', 'year': 1964}\n"
          ],
          "name": "stdout"
        }
      ]
    },
    {
      "cell_type": "markdown",
      "metadata": {
        "id": "OHMa-cvyfMCB",
        "colab_type": "text"
      },
      "source": [
        "## **Dictionary Methods**\n",
        "\n",
        "Python has a set of built-in methods that you can use on dictionaries."
      ]
    },
    {
      "cell_type": "code",
      "metadata": {
        "id": "kcHg9FzJfGN5",
        "colab_type": "code",
        "colab": {}
      },
      "source": [
        "Method \t        Description\n",
        "clear()\t        Removes all the elements from the dictionary\n",
        "copy()\t        Returns a copy of the dictionary\n",
        "fromkeys()\t    Returns a dictionary with the specified keys and values\n",
        "get()\t          Returns the value of the specified key\n",
        "items()\t        Returns a list containing a tuple for each key value pair\n",
        "keys()\t        Returns a list containing the dictionary's keys\n",
        "pop()\t          Removes the element with the specified key\n",
        "popitem()\t      Removes the last inserted key-value pair\n",
        "setdefault()\t  Returns the value of the specified key. If the key does not exist: insert the key, with the specified value\n",
        "update()\t      Updates the dictionary with the specified key-value pairs\n",
        "values()\t       Returns a list of all the values in the dictionary"
      ],
      "execution_count": 0,
      "outputs": []
    },
    {
      "cell_type": "markdown",
      "metadata": {
        "id": "Itn4aAssfXiw",
        "colab_type": "text"
      },
      "source": [
        "## **Python Conditions and If statements**\n",
        "\n",
        "Python supports the usual logical conditions from mathematics:\n",
        "\n",
        "  - Equals: a == b\n",
        "  - Not Equals: a != b\n",
        "  - Less than: a < b\n",
        "  - Less than or equal to: a <= b\n",
        "  - Greater than: a > b\n",
        "  - Greater than or equal to: a >= b\n",
        "\n",
        "These conditions can be used in several ways, most commonly in \"if statements\" and loops.\n",
        "\n",
        "An \"if statement\" is written by using the if keyword."
      ]
    },
    {
      "cell_type": "markdown",
      "metadata": {
        "id": "HSukk5vygE0X",
        "colab_type": "text"
      },
      "source": [
        "**Example**\n",
        "\n",
        "If statement:"
      ]
    },
    {
      "cell_type": "code",
      "metadata": {
        "id": "FQQmrzV8gDVb",
        "colab_type": "code",
        "colab": {
          "base_uri": "https://localhost:8080/",
          "height": 34
        },
        "outputId": "9336388a-728d-4be6-c3d6-8083db540ceb"
      },
      "source": [
        "a = 33\n",
        "b = 200\n",
        "if b > a:\n",
        "  print(\"b is greater than a\")"
      ],
      "execution_count": 123,
      "outputs": [
        {
          "output_type": "stream",
          "text": [
            "b is greater than a\n"
          ],
          "name": "stdout"
        }
      ]
    },
    {
      "cell_type": "code",
      "metadata": {
        "id": "H0vgrHFnglvU",
        "colab_type": "code",
        "colab": {
          "base_uri": "https://localhost:8080/",
          "height": 34
        },
        "outputId": "878542ae-45b7-477f-dae2-08ca9d186452"
      },
      "source": [
        "a = 33\n",
        "b = 33\n",
        "if b > a:\n",
        "  print(\"b is greater than a\")\n",
        "elif a == b:\n",
        "  print(\"a and b are equal\")"
      ],
      "execution_count": 124,
      "outputs": [
        {
          "output_type": "stream",
          "text": [
            "a and b are equal\n"
          ],
          "name": "stdout"
        }
      ]
    },
    {
      "cell_type": "markdown",
      "metadata": {
        "id": "2x6Bok0vgvP0",
        "colab_type": "text"
      },
      "source": [
        "In this example `a `is equal to `b`, so the first condition is not true,but the `elif` condition is true, so we print to screen that \"a and b are equal\"."
      ]
    },
    {
      "cell_type": "markdown",
      "metadata": {
        "id": "IRtQoChrg23x",
        "colab_type": "text"
      },
      "source": [
        "## **Else**\n",
        "\n",
        "The `else` keyword catches anything which isn't caught by the preceding conditions."
      ]
    },
    {
      "cell_type": "code",
      "metadata": {
        "id": "Q3f-4BDPgHbp",
        "colab_type": "code",
        "colab": {
          "base_uri": "https://localhost:8080/",
          "height": 34
        },
        "outputId": "6c9d5465-9aed-4622-fb99-61c734d6da62"
      },
      "source": [
        "a = 200\n",
        "b = 33\n",
        "if b > a:\n",
        "  print(\"b is greater than a\")\n",
        "elif a == b:\n",
        "  print(\"a and b are equal\")\n",
        "else:\n",
        "  print(\"a is greater than b\")"
      ],
      "execution_count": 125,
      "outputs": [
        {
          "output_type": "stream",
          "text": [
            "a is greater than b\n"
          ],
          "name": "stdout"
        }
      ]
    },
    {
      "cell_type": "markdown",
      "metadata": {
        "id": "SvZ0DUgRhA00",
        "colab_type": "text"
      },
      "source": [
        "In this example `a` is greater than` b`, so the first condition is not true, also the `elif` condition is not true, so we go to the `else `condition and print to screen that \"a is greater than b\".\n",
        "\n",
        "You can also have an `else` without the `elif`:"
      ]
    },
    {
      "cell_type": "code",
      "metadata": {
        "id": "rV0uJuKIg8F1",
        "colab_type": "code",
        "colab": {
          "base_uri": "https://localhost:8080/",
          "height": 34
        },
        "outputId": "ea7dcdde-c071-4ad6-f5d5-8707f5e42c01"
      },
      "source": [
        "a = 200\n",
        "b = 33\n",
        "if b > a:\n",
        "  print(\"b is greater than a\")\n",
        "else:\n",
        "  print(\"b is not greater than a\")"
      ],
      "execution_count": 126,
      "outputs": [
        {
          "output_type": "stream",
          "text": [
            "b is not greater than a\n"
          ],
          "name": "stdout"
        }
      ]
    },
    {
      "cell_type": "markdown",
      "metadata": {
        "id": "E4x9A713hPKU",
        "colab_type": "text"
      },
      "source": [
        "## **Short Hand If**\n",
        "\n",
        "If you have only one statement to execute, you can put it on the same line as the if statement."
      ]
    },
    {
      "cell_type": "code",
      "metadata": {
        "id": "mUq3O6xnhMKA",
        "colab_type": "code",
        "colab": {
          "base_uri": "https://localhost:8080/",
          "height": 34
        },
        "outputId": "512f8c9c-e8f7-4bf9-edab-73f7ca5aba15"
      },
      "source": [
        "if a > b: print(\"a is greater than b\")"
      ],
      "execution_count": 127,
      "outputs": [
        {
          "output_type": "stream",
          "text": [
            "a is greater than b\n"
          ],
          "name": "stdout"
        }
      ]
    },
    {
      "cell_type": "markdown",
      "metadata": {
        "id": "5seHxk06hhOs",
        "colab_type": "text"
      },
      "source": [
        "## **Short Hand If ... Else**\n",
        "\n",
        "If you have only one statement to execute, one for if, and one for else, you can put it all on the same line:"
      ]
    },
    {
      "cell_type": "code",
      "metadata": {
        "id": "Kvy_pazthfZq",
        "colab_type": "code",
        "colab": {
          "base_uri": "https://localhost:8080/",
          "height": 34
        },
        "outputId": "bc829d41-8b1f-48a6-9c44-812de435230e"
      },
      "source": [
        "a = 2\n",
        "b = 330\n",
        "print(\"A\") if a > b else print(\"B\") "
      ],
      "execution_count": 128,
      "outputs": [
        {
          "output_type": "stream",
          "text": [
            "B\n"
          ],
          "name": "stdout"
        }
      ]
    },
    {
      "cell_type": "markdown",
      "metadata": {
        "id": "wM4HgKjGho5H",
        "colab_type": "text"
      },
      "source": [
        "**Example**\n",
        "\n",
        "One line if else statement, with 3 conditions:"
      ]
    },
    {
      "cell_type": "code",
      "metadata": {
        "id": "MF44BPkchk1E",
        "colab_type": "code",
        "colab": {
          "base_uri": "https://localhost:8080/",
          "height": 34
        },
        "outputId": "927e11c3-6603-4828-9d4a-1a891cce4eab"
      },
      "source": [
        "a = 330\n",
        "b = 330\n",
        "print(\"A\") if a > b else print(\"=\") if a == b else print(\"B\") "
      ],
      "execution_count": 130,
      "outputs": [
        {
          "output_type": "stream",
          "text": [
            "=\n"
          ],
          "name": "stdout"
        }
      ]
    },
    {
      "cell_type": "markdown",
      "metadata": {
        "id": "mUf5mbwpiAch",
        "colab_type": "text"
      },
      "source": [
        "## **And**\n",
        "\n",
        "The `and` keyword is a logical operator, and is used to combine conditional statements:\n",
        "\n",
        "**Example**\n",
        "\n",
        "Test if `a` is greater than `b`, `AND` if `c` is greater than a:"
      ]
    },
    {
      "cell_type": "code",
      "metadata": {
        "id": "rZeghEP8hsMP",
        "colab_type": "code",
        "colab": {
          "base_uri": "https://localhost:8080/",
          "height": 34
        },
        "outputId": "93709e9a-5726-41f1-ccc2-90bee735ff92"
      },
      "source": [
        "a = 200\n",
        "b = 33\n",
        "c = 500\n",
        "if a > b and c > a:\n",
        "  print(\"Both conditions are True\")"
      ],
      "execution_count": 131,
      "outputs": [
        {
          "output_type": "stream",
          "text": [
            "Both conditions are True\n"
          ],
          "name": "stdout"
        }
      ]
    },
    {
      "cell_type": "markdown",
      "metadata": {
        "id": "Bv5JW8QziQ87",
        "colab_type": "text"
      },
      "source": [
        "## **Or**\n",
        "\n",
        "The `or` keyword is a logical operator, and is used to combine conditional statements:\n",
        "\n",
        "**Example**\n",
        "\n",
        "Test if `a` is greater than` b`, OR if `a` is greater than `c`:"
      ]
    },
    {
      "cell_type": "code",
      "metadata": {
        "id": "JZD_F-pTiON3",
        "colab_type": "code",
        "colab": {
          "base_uri": "https://localhost:8080/",
          "height": 34
        },
        "outputId": "0973af39-fd3c-47d8-b602-4aae3da46416"
      },
      "source": [
        "a = 200\n",
        "b = 33\n",
        "c = 500\n",
        "if a > b or a > c:\n",
        "  print(\"At least one of the conditions is True\")"
      ],
      "execution_count": 132,
      "outputs": [
        {
          "output_type": "stream",
          "text": [
            "At least one of the conditions is True\n"
          ],
          "name": "stdout"
        }
      ]
    },
    {
      "cell_type": "markdown",
      "metadata": {
        "id": "p1G4eR4ZinZ1",
        "colab_type": "text"
      },
      "source": [
        "## **Nested If**\n",
        "\n",
        "You can have `if` statements inside `if` statements, this is called nested `if` statements."
      ]
    },
    {
      "cell_type": "code",
      "metadata": {
        "id": "PbCEnqEKidGN",
        "colab_type": "code",
        "colab": {
          "base_uri": "https://localhost:8080/",
          "height": 52
        },
        "outputId": "8045279d-7823-4554-8e7d-099cd956eaa0"
      },
      "source": [
        "x = 41\n",
        "\n",
        "if x > 10:\n",
        "  print(\"Above ten,\")\n",
        "  if x > 20:\n",
        "    print(\"and also above 20!\")\n",
        "  else:\n",
        "    print(\"but not above 20.\") "
      ],
      "execution_count": 133,
      "outputs": [
        {
          "output_type": "stream",
          "text": [
            "Above ten,\n",
            "and also above 20!\n"
          ],
          "name": "stdout"
        }
      ]
    },
    {
      "cell_type": "markdown",
      "metadata": {
        "id": "dg5LX8pLixFr",
        "colab_type": "text"
      },
      "source": [
        "## **The pass Statement**\n",
        "\n",
        "`if` statements cannot be empty, but if you for some reason have an `if` statement with no content, put in the `pass` statement to avoid getting an error."
      ]
    },
    {
      "cell_type": "code",
      "metadata": {
        "id": "LrcTEn7MiuIK",
        "colab_type": "code",
        "colab": {}
      },
      "source": [
        "a = 33\n",
        "b = 200\n",
        "\n",
        "if b > a:\n",
        "  pass"
      ],
      "execution_count": 0,
      "outputs": []
    },
    {
      "cell_type": "markdown",
      "metadata": {
        "id": "71Bu-F7OjRJu",
        "colab_type": "text"
      },
      "source": [
        "## **Python Loops**\n",
        "\n",
        "Python has two primitive loop commands:\n",
        "\n",
        "  - `while` loops\n",
        "  - `for` loops\n"
      ]
    },
    {
      "cell_type": "markdown",
      "metadata": {
        "id": "V7nLTV2_jfFS",
        "colab_type": "text"
      },
      "source": [
        "## **The while Loop**\n",
        "\n",
        "With the `while` loop we can execute a set of statements as long as a condition is true."
      ]
    },
    {
      "cell_type": "code",
      "metadata": {
        "id": "dDIhztBQi4Hy",
        "colab_type": "code",
        "colab": {
          "base_uri": "https://localhost:8080/",
          "height": 104
        },
        "outputId": "db1f944b-ce28-4963-d719-3b04bd4400a6"
      },
      "source": [
        "i = 1\n",
        "while i < 6:\n",
        "  print(i)\n",
        "  i += 1"
      ],
      "execution_count": 135,
      "outputs": [
        {
          "output_type": "stream",
          "text": [
            "1\n",
            "2\n",
            "3\n",
            "4\n",
            "5\n"
          ],
          "name": "stdout"
        }
      ]
    },
    {
      "cell_type": "markdown",
      "metadata": {
        "id": "7JX7gGAujyf5",
        "colab_type": "text"
      },
      "source": [
        "*Note: remember to increment i, or else the loop will continue forever.*"
      ]
    },
    {
      "cell_type": "markdown",
      "metadata": {
        "id": "P4IOOY1hj3Cp",
        "colab_type": "text"
      },
      "source": [
        "The `while` loop requires relevant variables to be ready, in this example we need to define an indexing variable, `i`, which we set to 1."
      ]
    },
    {
      "cell_type": "markdown",
      "metadata": {
        "id": "mU-uztlNj842",
        "colab_type": "text"
      },
      "source": [
        "## **The break Statement**\n",
        "\n",
        "With the break statement we can stop the loop even if the while condition is true:"
      ]
    },
    {
      "cell_type": "code",
      "metadata": {
        "id": "2HLkTub7jn0R",
        "colab_type": "code",
        "colab": {
          "base_uri": "https://localhost:8080/",
          "height": 69
        },
        "outputId": "b86fc09d-c65e-4d92-ef38-7f1d0b2d2c91"
      },
      "source": [
        "i = 1\n",
        "while i < 6:\n",
        "  print(i)\n",
        "  if i == 3:\n",
        "    break\n",
        "  i += 1 "
      ],
      "execution_count": 136,
      "outputs": [
        {
          "output_type": "stream",
          "text": [
            "1\n",
            "2\n",
            "3\n"
          ],
          "name": "stdout"
        }
      ]
    },
    {
      "cell_type": "markdown",
      "metadata": {
        "id": "tOaOVyLGkEyn",
        "colab_type": "text"
      },
      "source": [
        "## **The continue Statement**\n",
        "\n",
        "With the `continue` statement we can stop the current iteration, and continue with the next:"
      ]
    },
    {
      "cell_type": "code",
      "metadata": {
        "id": "52N2Dc8bkCHu",
        "colab_type": "code",
        "colab": {
          "base_uri": "https://localhost:8080/",
          "height": 104
        },
        "outputId": "1a8579da-8426-4f51-caf4-5df779f96908"
      },
      "source": [
        "i = 0\n",
        "while i < 6:\n",
        "  i += 1\n",
        "  if i == 3:\n",
        "    continue\n",
        "  print(i)"
      ],
      "execution_count": 137,
      "outputs": [
        {
          "output_type": "stream",
          "text": [
            "1\n",
            "2\n",
            "4\n",
            "5\n",
            "6\n"
          ],
          "name": "stdout"
        }
      ]
    },
    {
      "cell_type": "markdown",
      "metadata": {
        "id": "fByLnrYUva-b",
        "colab_type": "text"
      },
      "source": [
        "## **Python For Loops**\n",
        "\n",
        "A for loop is used for iterating over a sequence (that is either a list, a tuple, a dictionary, a set, or a string).\n",
        "\n",
        "This is less like the for keyword in other programming languages, and works more like an iterator method as found in other object-orientated programming languages.\n",
        "\n",
        "With the for loop we can execute a set of statements, once for each item in a list, tuple, set etc."
      ]
    },
    {
      "cell_type": "code",
      "metadata": {
        "id": "PCp2OmpUkI_D",
        "colab_type": "code",
        "colab": {
          "base_uri": "https://localhost:8080/",
          "height": 69
        },
        "outputId": "1b39c4ce-6d90-4b7f-d546-19005115a98d"
      },
      "source": [
        "fruits = [\"apple\", \"banana\", \"cherry\"]\n",
        "for x in fruits:\n",
        "  print(x)"
      ],
      "execution_count": 138,
      "outputs": [
        {
          "output_type": "stream",
          "text": [
            "apple\n",
            "banana\n",
            "cherry\n"
          ],
          "name": "stdout"
        }
      ]
    },
    {
      "cell_type": "markdown",
      "metadata": {
        "id": "mnwg_OznviGg",
        "colab_type": "text"
      },
      "source": [
        "The `for` loop does not require an indexing variable to set beforehand.\n",
        "\n",
        "## **Looping Through a String**\n",
        "\n",
        "Even strings are iterable objects, they contain a sequence of characters"
      ]
    },
    {
      "cell_type": "code",
      "metadata": {
        "id": "hysRydyovgCt",
        "colab_type": "code",
        "colab": {
          "base_uri": "https://localhost:8080/",
          "height": 121
        },
        "outputId": "242cfd8b-bd09-4c6d-cc82-191870162b69"
      },
      "source": [
        "for x in \"banana\":\n",
        "  print(x)"
      ],
      "execution_count": 139,
      "outputs": [
        {
          "output_type": "stream",
          "text": [
            "b\n",
            "a\n",
            "n\n",
            "a\n",
            "n\n",
            "a\n"
          ],
          "name": "stdout"
        }
      ]
    },
    {
      "cell_type": "markdown",
      "metadata": {
        "id": "yYJ0syusvvdl",
        "colab_type": "text"
      },
      "source": [
        "## **The break Statement**\n",
        "\n",
        "With the break statement we can stop the loop before it has looped through all the items:"
      ]
    },
    {
      "cell_type": "markdown",
      "metadata": {
        "id": "RiUMP97nv3kr",
        "colab_type": "text"
      },
      "source": [
        "Exit the loop when x is \"banana\":"
      ]
    },
    {
      "cell_type": "code",
      "metadata": {
        "id": "nhfLVePBvodt",
        "colab_type": "code",
        "colab": {
          "base_uri": "https://localhost:8080/",
          "height": 52
        },
        "outputId": "e3319179-888c-46ab-88a9-cc953a3a617d"
      },
      "source": [
        "fruits = [\"apple\", \"banana\", \"cherry\"]\n",
        "for x in fruits:\n",
        "  print(x)\n",
        "  if x == \"banana\":\n",
        "    break"
      ],
      "execution_count": 142,
      "outputs": [
        {
          "output_type": "stream",
          "text": [
            "apple\n",
            "banana\n"
          ],
          "name": "stdout"
        }
      ]
    },
    {
      "cell_type": "markdown",
      "metadata": {
        "id": "mWes8KL2v_F6",
        "colab_type": "text"
      },
      "source": [
        "## **Example**\n",
        "\n",
        "Exit the loop when x is \"banana\", but this time the break comes before the print:"
      ]
    },
    {
      "cell_type": "code",
      "metadata": {
        "id": "Y2jgZ-9vvp9U",
        "colab_type": "code",
        "colab": {
          "base_uri": "https://localhost:8080/",
          "height": 34
        },
        "outputId": "b3352976-cd11-4f3c-fa41-ab28497d1bc7"
      },
      "source": [
        "\n",
        "fruits = [\"apple\", \"banana\", \"cherry\"]\n",
        "for x in fruits:\n",
        "  if x == \"banana\":\n",
        "    break\n",
        "  print(x)"
      ],
      "execution_count": 143,
      "outputs": [
        {
          "output_type": "stream",
          "text": [
            "apple\n"
          ],
          "name": "stdout"
        }
      ]
    },
    {
      "cell_type": "markdown",
      "metadata": {
        "id": "AzpU5AdrwJJt",
        "colab_type": "text"
      },
      "source": [
        "## **The continue Statement**\n",
        "\n",
        "With the continue statement we can stop the current iteration of the loop, and continue with the next:"
      ]
    },
    {
      "cell_type": "code",
      "metadata": {
        "id": "EfgrBFL7wGDZ",
        "colab_type": "code",
        "colab": {
          "base_uri": "https://localhost:8080/",
          "height": 52
        },
        "outputId": "0b4fc038-8c6a-466d-af6d-f19c91933407"
      },
      "source": [
        "fruits = [\"apple\", \"banana\", \"cherry\"]\n",
        "for x in fruits:\n",
        "  if x == \"banana\":\n",
        "    continue\n",
        "  print(x)"
      ],
      "execution_count": 144,
      "outputs": [
        {
          "output_type": "stream",
          "text": [
            "apple\n",
            "cherry\n"
          ],
          "name": "stdout"
        }
      ]
    },
    {
      "cell_type": "markdown",
      "metadata": {
        "id": "pClWYBwrwetD",
        "colab_type": "text"
      },
      "source": [
        "## **Creating a Function**\n",
        "\n",
        "In Python a function is defined using the def keyword:"
      ]
    },
    {
      "cell_type": "code",
      "metadata": {
        "id": "-jefRnObwL4l",
        "colab_type": "code",
        "colab": {}
      },
      "source": [
        "def my_function():\n",
        "  print(\"Hello from a function\") "
      ],
      "execution_count": 0,
      "outputs": []
    },
    {
      "cell_type": "markdown",
      "metadata": {
        "id": "_3-qTgOWwlnq",
        "colab_type": "text"
      },
      "source": [
        "## **Calling a Function**\n",
        "\n",
        "To call a function, use the function name followed by parenthesis:"
      ]
    },
    {
      "cell_type": "code",
      "metadata": {
        "id": "gGtuhtnWwiHO",
        "colab_type": "code",
        "colab": {
          "base_uri": "https://localhost:8080/",
          "height": 34
        },
        "outputId": "14601839-fbbf-4a2c-aa4c-db1e6a76882f"
      },
      "source": [
        "def my_function():\n",
        "  print(\"Hello from a function\")\n",
        "\n",
        "my_function()"
      ],
      "execution_count": 146,
      "outputs": [
        {
          "output_type": "stream",
          "text": [
            "Hello from a function\n"
          ],
          "name": "stdout"
        }
      ]
    },
    {
      "cell_type": "markdown",
      "metadata": {
        "id": "Qf19GFqOwq0X",
        "colab_type": "text"
      },
      "source": [
        "## **Parameters**\n",
        "\n",
        "Information can be passed to functions as parameter.\n",
        "\n",
        "Parameters are specified after the function name, inside the parentheses. You can add as many parameters as you want, just separate them with a comma.\n",
        "\n",
        "The following example has a function with one parameter (fname). When the function is called, we pass along a first name, which is used inside the function to print the full name: "
      ]
    },
    {
      "cell_type": "code",
      "metadata": {
        "id": "i5Krwh_-wooW",
        "colab_type": "code",
        "colab": {
          "base_uri": "https://localhost:8080/",
          "height": 69
        },
        "outputId": "644e6bdb-b890-46d3-dc7a-79613e3ad17c"
      },
      "source": [
        "def my_function(fname):\n",
        "  print(fname + \" Refsnes\")\n",
        "\n",
        "my_function(\"Emil\")\n",
        "my_function(\"Tobias\")\n",
        "my_function(\"Linus\") "
      ],
      "execution_count": 147,
      "outputs": [
        {
          "output_type": "stream",
          "text": [
            "Emil Refsnes\n",
            "Tobias Refsnes\n",
            "Linus Refsnes\n"
          ],
          "name": "stdout"
        }
      ]
    },
    {
      "cell_type": "code",
      "metadata": {
        "id": "MhvGWLxFwvTT",
        "colab_type": "code",
        "colab": {}
      },
      "source": [
        ""
      ],
      "execution_count": 0,
      "outputs": []
    }
  ]
}